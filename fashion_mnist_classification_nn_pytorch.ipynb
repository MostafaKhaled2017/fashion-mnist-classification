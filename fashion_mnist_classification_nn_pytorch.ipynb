{
 "cells": [
  {
   "cell_type": "markdown",
   "metadata": {},
   "source": [
    "# Fashion-MNIST Classification using Neural Network\n",
    "\n",
    "In this notebook, we'll build a neural network to classify Fashion-MNIST images"
   ]
  },
  {
   "cell_type": "code",
   "execution_count": 1,
   "metadata": {},
   "outputs": [
    {
     "name": "stderr",
     "output_type": "stream",
     "text": [
      "C:\\Users\\mosta\\AppData\\Local\\Packages\\PythonSoftwareFoundation.Python.3.10_qbz5n2kfra8p0\\LocalCache\\local-packages\\Python310\\site-packages\\tqdm\\auto.py:22: TqdmWarning: IProgress not found. Please update jupyter and ipywidgets. See https://ipywidgets.readthedocs.io/en/stable/user_install.html\n",
      "  from .autonotebook import tqdm as notebook_tqdm\n"
     ]
    }
   ],
   "source": [
    "#Importing main libraries\n",
    "import numpy as np\n",
    "import torch\n",
    "import torch.nn as nn\n",
    "import torch.optim as optim\n",
    "from torchvision import datasets, transforms\n",
    "import matplotlib.pyplot as plt\n",
    "from collections import OrderedDict"
   ]
  },
  {
   "attachments": {},
   "cell_type": "markdown",
   "metadata": {},
   "source": [
    "## Data Module"
   ]
  },
  {
   "cell_type": "code",
   "execution_count": 2,
   "metadata": {},
   "outputs": [],
   "source": [
    "import pytorch_lightning as pl\n",
    "from torchvision import transforms, datasets\n",
    "from torchmetrics import Accuracy\n",
    "from pytorch_lightning.callbacks.progress import TQDMProgressBar\n",
    "from pytorch_lightning.loggers import CSVLogger\n",
    "\n",
    "\n",
    "class FashionMNISTDataModule(pl.LightningDataModule):\n",
    "    def __init__(self, data_dir: str = './'):\n",
    "        super().__init__()\n",
    "        self.data_dir = data_dir\n",
    "\n",
    "    def prepare_data(self):\n",
    "        # download the dataset if it does not exist\n",
    "        datasets.FashionMNIST(self.data_dir, train=True, download=True)\n",
    "        datasets.FashionMNIST(self.data_dir, train=False, download=True)\n",
    "\n",
    "    def setup(self, stage=None):\n",
    "        # define transforms\n",
    "        transform = transforms.Compose([transforms.ToTensor(),\n",
    "                                transforms.Normalize((0.5,), (0.5,))])\n",
    "        \n",
    "        if stage == 'fit' or stage is None:\n",
    "            self.train_dataset = datasets.FashionMNIST('F_MNIST_data', download=True, train=True, transform=transform)\n",
    "            train_num = len(self.train_dataset)\n",
    "            indices = list(range(train_num))\n",
    "            np.random.shuffle(indices)\n",
    "            split = int(np.floor(0.2 * train_num))\n",
    "            self.val_idx, self.train_idx = indices[:split], indices[split:]\n",
    "            \n",
    "\n",
    "        if stage == 'test' or stage is None:\n",
    "            self.test_dataset = datasets.FashionMNIST(self.data_dir, download=True, train=False, transform=transform)\n",
    "\n",
    "    def train_dataloader(self):\n",
    "        train_sampler = torch.utils.data.sampler.SubsetRandomSampler(self.train_idx)\n",
    "        train_dl = torch.utils.data.DataLoader(self.train_dataset, batch_size=64, sampler=train_sampler)\n",
    "        return train_dl\n",
    "    \n",
    "    def val_dataloader(self):\n",
    "        val_sampler = torch.utils.data.sampler.SubsetRandomSampler(self.val_idx)\n",
    "        val_dl = torch.utils.data.DataLoader(self.train_dataset, batch_size=64, sampler=val_sampler)\n",
    "        return val_dl\n",
    "    \n",
    "    def test_dataloader(self):\n",
    "        test_dl = torch.utils.data.DataLoader(self.test_dataset, batch_size=64, shuffle=True)\n",
    "        return test_dl"
   ]
  },
  {
   "attachments": {},
   "cell_type": "markdown",
   "metadata": {},
   "source": [
    "## Lightning Module"
   ]
  },
  {
   "cell_type": "code",
   "execution_count": 3,
   "metadata": {},
   "outputs": [],
   "source": [
    "class FashionMNISTDataClassifier(pl.LightningModule):\n",
    "    def __init__(self):\n",
    "        super().__init__()\n",
    "        self.network = nn.Sequential(OrderedDict([('fc1', nn.Linear(784, 128)),\n",
    "                                                ('relu1', nn.ReLU()),\n",
    "                                                ('drop1', nn.Dropout(0.25)),\n",
    "                                                ('fc2', nn.Linear(128, 64)),\n",
    "                                                ('relu2', nn.ReLU()),\n",
    "                                                ('drop1', nn.Dropout(0.25)),\n",
    "                                                ('output', nn.Linear(64, 10)),\n",
    "                                                ('logsoftmax', nn.LogSoftmax(dim=1))]))\n",
    "        self.loss_fn = nn.NLLLoss()\n",
    "\n",
    "        self.train_losses =[]\n",
    "        self.test_losses = []\n",
    "\n",
    "        self.val_accuracy = Accuracy(task='multiclass', num_classes=10)\n",
    "        self.test_accuracy = Accuracy(task='multiclass', num_classes=10)\n",
    "\n",
    "        #Will be used for storing the losses after each step\n",
    "        #TODO: It is better to get the losses from the trainer instead of storing them here\n",
    "        self.temp_training_losses = []\n",
    "        self.temp_validation_losses = []\n",
    "\n",
    "        \n",
    "    def forward(self, x):\n",
    "        x = self.network(x)\n",
    "        return x\n",
    "    \n",
    "    def training_step(self, batch, batch_idx):\n",
    "        images, labels = batch\n",
    "        images = images.view(images.shape[0], -1)\n",
    "        out = self.forward(images)\n",
    "        loss = self.loss_fn(out, labels)\n",
    "        self.log('train_loss', loss, prog_bar=True)\n",
    "        self.temp_training_losses.append(loss)\n",
    "    \n",
    "    def validation_step(self, batch, batch_idx):\n",
    "        images, labels = batch\n",
    "        images = images.view(images.shape[0], -1)\n",
    "        out = self.forward(images)\n",
    "        loss = self.loss_fn(out, labels)\n",
    "        preds = torch.argmax(out, dim=1)\n",
    "        self.val_accuracy.update(preds, labels)\n",
    "\n",
    "        self.log('val_loss', loss, prog_bar=True)\n",
    "        self.log('val_acc', self.val_accuracy, prog_bar=True)\n",
    "\n",
    "        self.temp_validation_losses.append(loss)\n",
    "    \n",
    "    def test_step(self, batch, batch_idx):\n",
    "        images, labels = batch\n",
    "        images = images.view(images.shape[0], -1)\n",
    "        out = self.forward(images)\n",
    "        loss = self.loss_fn(out, labels)\n",
    "        preds = torch.argmax(out, dim=1)\n",
    "        self.test_accuracy.update(preds, labels)\n",
    "        \n",
    "        self.log('test_loss', loss, prog_bar=True)\n",
    "        self.log('test_acc', self.test_accuracy, prog_bar=True)\n",
    "    \n",
    "    def configure_optimizers(self):\n",
    "        optimizer = optim.Adam(self.parameters(), lr=0.003)\n",
    "        return optimizer\n",
    "    \n",
    "    def on_train_epoch_end(self, *args, **kwargs):        \n",
    "        train_loss_mean = torch.stack(self.temp_training_losses).mean()\n",
    "        self.temp_training_losses = []\n",
    "        self.train_losses.append(train_loss_mean)\n",
    "\n",
    "\n",
    "    def on_validation_epoch_end(self, *arg, **kwargs):\n",
    "        val_loss_mean = torch.stack(self.temp_validation_losses).mean()\n",
    "        self.temp_validation_losses = []\n",
    "        self.test_losses.append(val_loss_mean)\n",
    "\n",
    "    def plot_losses(self):\n",
    "        train_losses_tensor = torch.tensor(self.train_losses, dtype=torch.float32)\n",
    "        test_losses_tensor = torch.tensor(self.test_losses, dtype=torch.float32)\n",
    "        \n",
    "        plt.plot(train_losses_tensor.detach().numpy(), label='train-loss')\n",
    "        plt.plot(test_losses_tensor.detach().numpy(), label='val-loss')\n",
    "        plt.legend()\n",
    "        plt.show()"
   ]
  },
  {
   "cell_type": "code",
   "execution_count": 4,
   "metadata": {},
   "outputs": [
    {
     "name": "stdout",
     "output_type": "stream",
     "text": [
      "FashionMNISTDataClassifier(\n",
      "  (network): Sequential(\n",
      "    (fc1): Linear(in_features=784, out_features=128, bias=True)\n",
      "    (relu1): ReLU()\n",
      "    (drop1): Dropout(p=0.25, inplace=False)\n",
      "    (fc2): Linear(in_features=128, out_features=64, bias=True)\n",
      "    (relu2): ReLU()\n",
      "    (output): Linear(in_features=64, out_features=10, bias=True)\n",
      "    (logsoftmax): LogSoftmax(dim=1)\n",
      "  )\n",
      "  (loss_fn): NLLLoss()\n",
      "  (val_accuracy): MulticlassAccuracy()\n",
      "  (test_accuracy): MulticlassAccuracy()\n",
      ")\n"
     ]
    }
   ],
   "source": [
    "#Initializing the data module and the model\n",
    "dm = FashionMNISTDataModule()\n",
    "model = FashionMNISTDataClassifier()\n",
    "\n",
    "print(model)"
   ]
  },
  {
   "cell_type": "markdown",
   "metadata": {},
   "source": [
    "## Train the network"
   ]
  },
  {
   "cell_type": "code",
   "execution_count": 5,
   "metadata": {},
   "outputs": [],
   "source": [
    "trainer = None\n",
    "def train_validate(model, n_epochs):\n",
    "    trainer = pl.Trainer(max_epochs=n_epochs, callbacks=[TQDMProgressBar(refresh_rate=20)],\n",
    "    logger=CSVLogger(save_dir=\"logs/\"))\n",
    "\n",
    "    #Training\n",
    "    trainer.fit(model, dm)\n",
    "\n",
    "    #Printing the losses\n",
    "    model.plot_losses()"
   ]
  },
  {
   "cell_type": "code",
   "execution_count": 6,
   "metadata": {},
   "outputs": [
    {
     "name": "stderr",
     "output_type": "stream",
     "text": [
      "GPU available: False, used: False\n",
      "TPU available: False, using: 0 TPU cores\n",
      "IPU available: False, using: 0 IPUs\n",
      "HPU available: False, using: 0 HPUs\n",
      "C:\\Users\\mosta\\AppData\\Local\\Packages\\PythonSoftwareFoundation.Python.3.10_qbz5n2kfra8p0\\LocalCache\\local-packages\\Python310\\site-packages\\pytorch_lightning\\callbacks\\model_checkpoint.py:612: UserWarning: Checkpoint directory logs/lightning_logs\\version_0\\checkpoints exists and is not empty.\n",
      "  rank_zero_warn(f\"Checkpoint directory {dirpath} exists and is not empty.\")\n",
      "\n",
      "  | Name          | Type               | Params\n",
      "-----------------------------------------------------\n",
      "0 | network       | Sequential         | 109 K \n",
      "1 | loss_fn       | NLLLoss            | 0     \n",
      "2 | val_accuracy  | MulticlassAccuracy | 0     \n",
      "3 | test_accuracy | MulticlassAccuracy | 0     \n",
      "-----------------------------------------------------\n",
      "109 K     Trainable params\n",
      "0         Non-trainable params\n",
      "109 K     Total params\n",
      "0.438     Total estimated model params size (MB)\n",
      "C:\\Users\\mosta\\AppData\\Local\\Packages\\PythonSoftwareFoundation.Python.3.10_qbz5n2kfra8p0\\LocalCache\\local-packages\\Python310\\site-packages\\lightning_fabric\\loggers\\csv_logs.py:188: UserWarning: Experiment logs directory logs/lightning_logs\\version_0 exists and is not empty. Previous log files in this directory will be deleted when the new ones are saved!\n",
      "  rank_zero_warn(\n"
     ]
    },
    {
     "name": "stdout",
     "output_type": "stream",
     "text": [
      "Sanity Checking DataLoader 0:   0%|          | 0/2 [00:00<?, ?it/s]"
     ]
    },
    {
     "name": "stderr",
     "output_type": "stream",
     "text": [
      "C:\\Users\\mosta\\AppData\\Local\\Packages\\PythonSoftwareFoundation.Python.3.10_qbz5n2kfra8p0\\LocalCache\\local-packages\\Python310\\site-packages\\pytorch_lightning\\trainer\\connectors\\data_connector.py:430: PossibleUserWarning: The dataloader, val_dataloader, does not have many workers which may be a bottleneck. Consider increasing the value of the `num_workers` argument` (try 8 which is the number of cpus on this machine) in the `DataLoader` init to improve performance.\n",
      "  rank_zero_warn(\n"
     ]
    },
    {
     "name": "stdout",
     "output_type": "stream",
     "text": [
      "                                                                           "
     ]
    },
    {
     "name": "stderr",
     "output_type": "stream",
     "text": [
      "C:\\Users\\mosta\\AppData\\Local\\Packages\\PythonSoftwareFoundation.Python.3.10_qbz5n2kfra8p0\\LocalCache\\local-packages\\Python310\\site-packages\\pytorch_lightning\\trainer\\connectors\\data_connector.py:430: PossibleUserWarning: The dataloader, train_dataloader, does not have many workers which may be a bottleneck. Consider increasing the value of the `num_workers` argument` (try 8 which is the number of cpus on this machine) in the `DataLoader` init to improve performance.\n",
      "  rank_zero_warn(\n"
     ]
    },
    {
     "name": "stdout",
     "output_type": "stream",
     "text": [
      "Epoch 0:   0%|          | 0/750 [00:00<?, ?it/s] "
     ]
    },
    {
     "name": "stderr",
     "output_type": "stream",
     "text": [
      "C:\\Users\\mosta\\AppData\\Local\\Packages\\PythonSoftwareFoundation.Python.3.10_qbz5n2kfra8p0\\LocalCache\\local-packages\\Python310\\site-packages\\pytorch_lightning\\loops\\optimization\\automatic.py:129: UserWarning: `training_step` returned `None`. If this was on purpose, ignore this warning...\n",
      "  self.warning_cache.warn(\"`training_step` returned `None`. If this was on purpose, ignore this warning...\")\n"
     ]
    },
    {
     "name": "stdout",
     "output_type": "stream",
     "text": [
      "Epoch 4:  59%|█████▊    | 440/750 [00:08<00:06, 51.25it/s, v_num=0, train_loss=2.330, val_loss=2.320, val_acc=0.0797]"
     ]
    },
    {
     "ename": "PermissionError",
     "evalue": "[Errno 13] Permission denied: 'c:/Users/mosta/OneDrive/Documents/AI & Data science/fashion-mnist-classification/logs/lightning_logs/version_0/hparams.yaml'",
     "output_type": "error",
     "traceback": [
      "\u001b[1;31m---------------------------------------------------------------------------\u001b[0m",
      "\u001b[1;31mPermissionError\u001b[0m                           Traceback (most recent call last)",
      "File \u001b[1;32m~\\AppData\\Local\\Packages\\PythonSoftwareFoundation.Python.3.10_qbz5n2kfra8p0\\LocalCache\\local-packages\\Python310\\site-packages\\pytorch_lightning\\trainer\\call.py:44\u001b[0m, in \u001b[0;36m_call_and_handle_interrupt\u001b[1;34m(trainer, trainer_fn, *args, **kwargs)\u001b[0m\n\u001b[0;32m     43\u001b[0m     \u001b[39melse\u001b[39;00m:\n\u001b[1;32m---> 44\u001b[0m         \u001b[39mreturn\u001b[39;00m trainer_fn(\u001b[39m*\u001b[39margs, \u001b[39m*\u001b[39m\u001b[39m*\u001b[39mkwargs)\n\u001b[0;32m     46\u001b[0m \u001b[39mexcept\u001b[39;00m _TunerExitException:\n",
      "File \u001b[1;32m~\\AppData\\Local\\Packages\\PythonSoftwareFoundation.Python.3.10_qbz5n2kfra8p0\\LocalCache\\local-packages\\Python310\\site-packages\\pytorch_lightning\\trainer\\trainer.py:559\u001b[0m, in \u001b[0;36mTrainer._fit_impl\u001b[1;34m(self, model, train_dataloaders, val_dataloaders, datamodule, ckpt_path)\u001b[0m\n\u001b[0;32m    553\u001b[0m ckpt_path \u001b[39m=\u001b[39m \u001b[39mself\u001b[39m\u001b[39m.\u001b[39m_checkpoint_connector\u001b[39m.\u001b[39m_select_ckpt_path(\n\u001b[0;32m    554\u001b[0m     \u001b[39mself\u001b[39m\u001b[39m.\u001b[39mstate\u001b[39m.\u001b[39mfn,\n\u001b[0;32m    555\u001b[0m     ckpt_path,\n\u001b[0;32m    556\u001b[0m     model_provided\u001b[39m=\u001b[39m\u001b[39mTrue\u001b[39;00m,\n\u001b[0;32m    557\u001b[0m     model_connected\u001b[39m=\u001b[39m\u001b[39mself\u001b[39m\u001b[39m.\u001b[39mlightning_module \u001b[39mis\u001b[39;00m \u001b[39mnot\u001b[39;00m \u001b[39mNone\u001b[39;00m,\n\u001b[0;32m    558\u001b[0m )\n\u001b[1;32m--> 559\u001b[0m \u001b[39mself\u001b[39;49m\u001b[39m.\u001b[39;49m_run(model, ckpt_path\u001b[39m=\u001b[39;49mckpt_path)\n\u001b[0;32m    561\u001b[0m \u001b[39massert\u001b[39;00m \u001b[39mself\u001b[39m\u001b[39m.\u001b[39mstate\u001b[39m.\u001b[39mstopped\n",
      "File \u001b[1;32m~\\AppData\\Local\\Packages\\PythonSoftwareFoundation.Python.3.10_qbz5n2kfra8p0\\LocalCache\\local-packages\\Python310\\site-packages\\pytorch_lightning\\trainer\\trainer.py:935\u001b[0m, in \u001b[0;36mTrainer._run\u001b[1;34m(self, model, ckpt_path)\u001b[0m\n\u001b[0;32m    932\u001b[0m \u001b[39m# ----------------------------\u001b[39;00m\n\u001b[0;32m    933\u001b[0m \u001b[39m# RUN THE TRAINER\u001b[39;00m\n\u001b[0;32m    934\u001b[0m \u001b[39m# ----------------------------\u001b[39;00m\n\u001b[1;32m--> 935\u001b[0m results \u001b[39m=\u001b[39m \u001b[39mself\u001b[39;49m\u001b[39m.\u001b[39;49m_run_stage()\n\u001b[0;32m    937\u001b[0m \u001b[39m# ----------------------------\u001b[39;00m\n\u001b[0;32m    938\u001b[0m \u001b[39m# POST-Training CLEAN UP\u001b[39;00m\n\u001b[0;32m    939\u001b[0m \u001b[39m# ----------------------------\u001b[39;00m\n",
      "File \u001b[1;32m~\\AppData\\Local\\Packages\\PythonSoftwareFoundation.Python.3.10_qbz5n2kfra8p0\\LocalCache\\local-packages\\Python310\\site-packages\\pytorch_lightning\\trainer\\trainer.py:978\u001b[0m, in \u001b[0;36mTrainer._run_stage\u001b[1;34m(self)\u001b[0m\n\u001b[0;32m    977\u001b[0m \u001b[39mwith\u001b[39;00m torch\u001b[39m.\u001b[39mautograd\u001b[39m.\u001b[39mset_detect_anomaly(\u001b[39mself\u001b[39m\u001b[39m.\u001b[39m_detect_anomaly):\n\u001b[1;32m--> 978\u001b[0m     \u001b[39mself\u001b[39;49m\u001b[39m.\u001b[39;49mfit_loop\u001b[39m.\u001b[39;49mrun()\n\u001b[0;32m    979\u001b[0m \u001b[39mreturn\u001b[39;00m \u001b[39mNone\u001b[39;00m\n",
      "File \u001b[1;32m~\\AppData\\Local\\Packages\\PythonSoftwareFoundation.Python.3.10_qbz5n2kfra8p0\\LocalCache\\local-packages\\Python310\\site-packages\\pytorch_lightning\\loops\\fit_loop.py:201\u001b[0m, in \u001b[0;36m_FitLoop.run\u001b[1;34m(self)\u001b[0m\n\u001b[0;32m    200\u001b[0m \u001b[39mself\u001b[39m\u001b[39m.\u001b[39mon_advance_start()\n\u001b[1;32m--> 201\u001b[0m \u001b[39mself\u001b[39;49m\u001b[39m.\u001b[39;49madvance()\n\u001b[0;32m    202\u001b[0m \u001b[39mself\u001b[39m\u001b[39m.\u001b[39mon_advance_end()\n",
      "File \u001b[1;32m~\\AppData\\Local\\Packages\\PythonSoftwareFoundation.Python.3.10_qbz5n2kfra8p0\\LocalCache\\local-packages\\Python310\\site-packages\\pytorch_lightning\\loops\\fit_loop.py:354\u001b[0m, in \u001b[0;36m_FitLoop.advance\u001b[1;34m(self)\u001b[0m\n\u001b[0;32m    353\u001b[0m \u001b[39mwith\u001b[39;00m \u001b[39mself\u001b[39m\u001b[39m.\u001b[39mtrainer\u001b[39m.\u001b[39mprofiler\u001b[39m.\u001b[39mprofile(\u001b[39m\"\u001b[39m\u001b[39mrun_training_epoch\u001b[39m\u001b[39m\"\u001b[39m):\n\u001b[1;32m--> 354\u001b[0m     \u001b[39mself\u001b[39;49m\u001b[39m.\u001b[39;49mepoch_loop\u001b[39m.\u001b[39;49mrun(\u001b[39mself\u001b[39;49m\u001b[39m.\u001b[39;49m_data_fetcher)\n",
      "File \u001b[1;32m~\\AppData\\Local\\Packages\\PythonSoftwareFoundation.Python.3.10_qbz5n2kfra8p0\\LocalCache\\local-packages\\Python310\\site-packages\\pytorch_lightning\\loops\\training_epoch_loop.py:133\u001b[0m, in \u001b[0;36m_TrainingEpochLoop.run\u001b[1;34m(self, data_fetcher)\u001b[0m\n\u001b[0;32m    132\u001b[0m \u001b[39mtry\u001b[39;00m:\n\u001b[1;32m--> 133\u001b[0m     \u001b[39mself\u001b[39;49m\u001b[39m.\u001b[39;49madvance(data_fetcher)\n\u001b[0;32m    134\u001b[0m     \u001b[39mself\u001b[39m\u001b[39m.\u001b[39mon_advance_end()\n",
      "File \u001b[1;32m~\\AppData\\Local\\Packages\\PythonSoftwareFoundation.Python.3.10_qbz5n2kfra8p0\\LocalCache\\local-packages\\Python310\\site-packages\\pytorch_lightning\\loops\\training_epoch_loop.py:239\u001b[0m, in \u001b[0;36m_TrainingEpochLoop.advance\u001b[1;34m(self, data_fetcher)\u001b[0m\n\u001b[0;32m    236\u001b[0m \u001b[39m# -----------------------------------------\u001b[39;00m\n\u001b[0;32m    237\u001b[0m \u001b[39m# SAVE METRICS TO LOGGERS AND PROGRESS_BAR\u001b[39;00m\n\u001b[0;32m    238\u001b[0m \u001b[39m# -----------------------------------------\u001b[39;00m\n\u001b[1;32m--> 239\u001b[0m trainer\u001b[39m.\u001b[39;49m_logger_connector\u001b[39m.\u001b[39;49mupdate_train_step_metrics()\n",
      "File \u001b[1;32m~\\AppData\\Local\\Packages\\PythonSoftwareFoundation.Python.3.10_qbz5n2kfra8p0\\LocalCache\\local-packages\\Python310\\site-packages\\pytorch_lightning\\trainer\\connectors\\logger_connector\\logger_connector.py:154\u001b[0m, in \u001b[0;36m_LoggerConnector.update_train_step_metrics\u001b[1;34m(self)\u001b[0m\n\u001b[0;32m    153\u001b[0m \u001b[39mif\u001b[39;00m \u001b[39mself\u001b[39m\u001b[39m.\u001b[39mshould_update_logs \u001b[39mor\u001b[39;00m \u001b[39mself\u001b[39m\u001b[39m.\u001b[39mtrainer\u001b[39m.\u001b[39mfast_dev_run:\n\u001b[1;32m--> 154\u001b[0m     \u001b[39mself\u001b[39;49m\u001b[39m.\u001b[39;49mlog_metrics(\u001b[39mself\u001b[39;49m\u001b[39m.\u001b[39;49mmetrics[\u001b[39m\"\u001b[39;49m\u001b[39mlog\u001b[39;49m\u001b[39m\"\u001b[39;49m])\n",
      "File \u001b[1;32m~\\AppData\\Local\\Packages\\PythonSoftwareFoundation.Python.3.10_qbz5n2kfra8p0\\LocalCache\\local-packages\\Python310\\site-packages\\pytorch_lightning\\trainer\\connectors\\logger_connector\\logger_connector.py:109\u001b[0m, in \u001b[0;36m_LoggerConnector.log_metrics\u001b[1;34m(self, metrics, step)\u001b[0m\n\u001b[0;32m    108\u001b[0m logger\u001b[39m.\u001b[39mlog_metrics(metrics\u001b[39m=\u001b[39mscalar_metrics, step\u001b[39m=\u001b[39mstep)\n\u001b[1;32m--> 109\u001b[0m logger\u001b[39m.\u001b[39;49msave()\n",
      "File \u001b[1;32m~\\AppData\\Local\\Packages\\PythonSoftwareFoundation.Python.3.10_qbz5n2kfra8p0\\LocalCache\\local-packages\\Python310\\site-packages\\lightning_utilities\\core\\rank_zero.py:27\u001b[0m, in \u001b[0;36mrank_zero_only.<locals>.wrapped_fn\u001b[1;34m(*args, **kwargs)\u001b[0m\n\u001b[0;32m     26\u001b[0m \u001b[39mif\u001b[39;00m rank \u001b[39m==\u001b[39m \u001b[39m0\u001b[39m:\n\u001b[1;32m---> 27\u001b[0m     \u001b[39mreturn\u001b[39;00m fn(\u001b[39m*\u001b[39margs, \u001b[39m*\u001b[39m\u001b[39m*\u001b[39mkwargs)\n\u001b[0;32m     28\u001b[0m \u001b[39mreturn\u001b[39;00m \u001b[39mNone\u001b[39;00m\n",
      "File \u001b[1;32m~\\AppData\\Local\\Packages\\PythonSoftwareFoundation.Python.3.10_qbz5n2kfra8p0\\LocalCache\\local-packages\\Python310\\site-packages\\lightning_fabric\\loggers\\csv_logs.py:143\u001b[0m, in \u001b[0;36mCSVLogger.save\u001b[1;34m(self)\u001b[0m\n\u001b[0;32m    142\u001b[0m \u001b[39msuper\u001b[39m()\u001b[39m.\u001b[39msave()\n\u001b[1;32m--> 143\u001b[0m \u001b[39mself\u001b[39;49m\u001b[39m.\u001b[39;49mexperiment\u001b[39m.\u001b[39;49msave()\n",
      "File \u001b[1;32m~\\AppData\\Local\\Packages\\PythonSoftwareFoundation.Python.3.10_qbz5n2kfra8p0\\LocalCache\\local-packages\\Python310\\site-packages\\pytorch_lightning\\loggers\\csv_logs.py:62\u001b[0m, in \u001b[0;36mExperimentWriter.save\u001b[1;34m(self)\u001b[0m\n\u001b[0;32m     61\u001b[0m hparams_file \u001b[39m=\u001b[39m os\u001b[39m.\u001b[39mpath\u001b[39m.\u001b[39mjoin(\u001b[39mself\u001b[39m\u001b[39m.\u001b[39mlog_dir, \u001b[39mself\u001b[39m\u001b[39m.\u001b[39mNAME_HPARAMS_FILE)\n\u001b[1;32m---> 62\u001b[0m save_hparams_to_yaml(hparams_file, \u001b[39mself\u001b[39;49m\u001b[39m.\u001b[39;49mhparams)\n\u001b[0;32m     63\u001b[0m \u001b[39mreturn\u001b[39;00m \u001b[39msuper\u001b[39m()\u001b[39m.\u001b[39msave()\n",
      "File \u001b[1;32m~\\AppData\\Local\\Packages\\PythonSoftwareFoundation.Python.3.10_qbz5n2kfra8p0\\LocalCache\\local-packages\\Python310\\site-packages\\pytorch_lightning\\core\\saving.py:326\u001b[0m, in \u001b[0;36msave_hparams_to_yaml\u001b[1;34m(config_yaml, hparams, use_omegaconf)\u001b[0m\n\u001b[0;32m    325\u001b[0m \u001b[39m# saving the standard way\u001b[39;00m\n\u001b[1;32m--> 326\u001b[0m \u001b[39mwith\u001b[39;00m fs\u001b[39m.\u001b[39;49mopen(config_yaml, \u001b[39m\"\u001b[39;49m\u001b[39mw\u001b[39;49m\u001b[39m\"\u001b[39;49m, newline\u001b[39m=\u001b[39;49m\u001b[39m\"\u001b[39;49m\u001b[39m\"\u001b[39;49m) \u001b[39mas\u001b[39;00m fp:\n\u001b[0;32m    327\u001b[0m     yaml\u001b[39m.\u001b[39mdump(hparams_allowed, fp)\n",
      "File \u001b[1;32m~\\AppData\\Local\\Packages\\PythonSoftwareFoundation.Python.3.10_qbz5n2kfra8p0\\LocalCache\\local-packages\\Python310\\site-packages\\fsspec\\spec.py:1139\u001b[0m, in \u001b[0;36mAbstractFileSystem.open\u001b[1;34m(self, path, mode, block_size, cache_options, compression, **kwargs)\u001b[0m\n\u001b[0;32m   1133\u001b[0m     text_kwargs \u001b[39m=\u001b[39m {\n\u001b[0;32m   1134\u001b[0m         k: kwargs\u001b[39m.\u001b[39mpop(k)\n\u001b[0;32m   1135\u001b[0m         \u001b[39mfor\u001b[39;00m k \u001b[39min\u001b[39;00m [\u001b[39m\"\u001b[39m\u001b[39mencoding\u001b[39m\u001b[39m\"\u001b[39m, \u001b[39m\"\u001b[39m\u001b[39merrors\u001b[39m\u001b[39m\"\u001b[39m, \u001b[39m\"\u001b[39m\u001b[39mnewline\u001b[39m\u001b[39m\"\u001b[39m]\n\u001b[0;32m   1136\u001b[0m         \u001b[39mif\u001b[39;00m k \u001b[39min\u001b[39;00m kwargs\n\u001b[0;32m   1137\u001b[0m     }\n\u001b[0;32m   1138\u001b[0m     \u001b[39mreturn\u001b[39;00m io\u001b[39m.\u001b[39mTextIOWrapper(\n\u001b[1;32m-> 1139\u001b[0m         \u001b[39mself\u001b[39m\u001b[39m.\u001b[39mopen(\n\u001b[0;32m   1140\u001b[0m             path,\n\u001b[0;32m   1141\u001b[0m             mode,\n\u001b[0;32m   1142\u001b[0m             block_size\u001b[39m=\u001b[39mblock_size,\n\u001b[0;32m   1143\u001b[0m             cache_options\u001b[39m=\u001b[39mcache_options,\n\u001b[0;32m   1144\u001b[0m             compression\u001b[39m=\u001b[39mcompression,\n\u001b[0;32m   1145\u001b[0m             \u001b[39m*\u001b[39m\u001b[39m*\u001b[39mkwargs,\n\u001b[0;32m   1146\u001b[0m         ),\n\u001b[0;32m   1147\u001b[0m         \u001b[39m*\u001b[39m\u001b[39m*\u001b[39mtext_kwargs,\n\u001b[0;32m   1148\u001b[0m     )\n\u001b[0;32m   1149\u001b[0m \u001b[39melse\u001b[39;00m:\n",
      "File \u001b[1;32m~\\AppData\\Local\\Packages\\PythonSoftwareFoundation.Python.3.10_qbz5n2kfra8p0\\LocalCache\\local-packages\\Python310\\site-packages\\fsspec\\spec.py:1151\u001b[0m, in \u001b[0;36mAbstractFileSystem.open\u001b[1;34m(self, path, mode, block_size, cache_options, compression, **kwargs)\u001b[0m\n\u001b[0;32m   1150\u001b[0m ac \u001b[39m=\u001b[39m kwargs\u001b[39m.\u001b[39mpop(\u001b[39m\"\u001b[39m\u001b[39mautocommit\u001b[39m\u001b[39m\"\u001b[39m, \u001b[39mnot\u001b[39;00m \u001b[39mself\u001b[39m\u001b[39m.\u001b[39m_intrans)\n\u001b[1;32m-> 1151\u001b[0m f \u001b[39m=\u001b[39m \u001b[39mself\u001b[39m\u001b[39m.\u001b[39m_open(\n\u001b[0;32m   1152\u001b[0m     path,\n\u001b[0;32m   1153\u001b[0m     mode\u001b[39m=\u001b[39mmode,\n\u001b[0;32m   1154\u001b[0m     block_size\u001b[39m=\u001b[39mblock_size,\n\u001b[0;32m   1155\u001b[0m     autocommit\u001b[39m=\u001b[39mac,\n\u001b[0;32m   1156\u001b[0m     cache_options\u001b[39m=\u001b[39mcache_options,\n\u001b[0;32m   1157\u001b[0m     \u001b[39m*\u001b[39m\u001b[39m*\u001b[39mkwargs,\n\u001b[0;32m   1158\u001b[0m )\n\u001b[0;32m   1159\u001b[0m \u001b[39mif\u001b[39;00m compression \u001b[39mis\u001b[39;00m \u001b[39mnot\u001b[39;00m \u001b[39mNone\u001b[39;00m:\n",
      "File \u001b[1;32m~\\AppData\\Local\\Packages\\PythonSoftwareFoundation.Python.3.10_qbz5n2kfra8p0\\LocalCache\\local-packages\\Python310\\site-packages\\fsspec\\implementations\\local.py:183\u001b[0m, in \u001b[0;36mLocalFileSystem._open\u001b[1;34m(self, path, mode, block_size, **kwargs)\u001b[0m\n\u001b[0;32m    182\u001b[0m     \u001b[39mself\u001b[39m\u001b[39m.\u001b[39mmakedirs(\u001b[39mself\u001b[39m\u001b[39m.\u001b[39m_parent(path), exist_ok\u001b[39m=\u001b[39m\u001b[39mTrue\u001b[39;00m)\n\u001b[1;32m--> 183\u001b[0m \u001b[39mreturn\u001b[39;00m LocalFileOpener(path, mode, fs\u001b[39m=\u001b[39m\u001b[39mself\u001b[39m, \u001b[39m*\u001b[39m\u001b[39m*\u001b[39mkwargs)\n",
      "File \u001b[1;32m~\\AppData\\Local\\Packages\\PythonSoftwareFoundation.Python.3.10_qbz5n2kfra8p0\\LocalCache\\local-packages\\Python310\\site-packages\\fsspec\\implementations\\local.py:285\u001b[0m, in \u001b[0;36mLocalFileOpener.__init__\u001b[1;34m(self, path, mode, autocommit, fs, compression, **kwargs)\u001b[0m\n\u001b[0;32m    284\u001b[0m \u001b[39mself\u001b[39m\u001b[39m.\u001b[39mblocksize \u001b[39m=\u001b[39m io\u001b[39m.\u001b[39mDEFAULT_BUFFER_SIZE\n\u001b[1;32m--> 285\u001b[0m \u001b[39mself\u001b[39;49m\u001b[39m.\u001b[39;49m_open()\n",
      "File \u001b[1;32m~\\AppData\\Local\\Packages\\PythonSoftwareFoundation.Python.3.10_qbz5n2kfra8p0\\LocalCache\\local-packages\\Python310\\site-packages\\fsspec\\implementations\\local.py:290\u001b[0m, in \u001b[0;36mLocalFileOpener._open\u001b[1;34m(self)\u001b[0m\n\u001b[0;32m    289\u001b[0m \u001b[39mif\u001b[39;00m \u001b[39mself\u001b[39m\u001b[39m.\u001b[39mautocommit \u001b[39mor\u001b[39;00m \u001b[39m\"\u001b[39m\u001b[39mw\u001b[39m\u001b[39m\"\u001b[39m \u001b[39mnot\u001b[39;00m \u001b[39min\u001b[39;00m \u001b[39mself\u001b[39m\u001b[39m.\u001b[39mmode:\n\u001b[1;32m--> 290\u001b[0m     \u001b[39mself\u001b[39m\u001b[39m.\u001b[39mf \u001b[39m=\u001b[39m \u001b[39mopen\u001b[39;49m(\u001b[39mself\u001b[39;49m\u001b[39m.\u001b[39;49mpath, mode\u001b[39m=\u001b[39;49m\u001b[39mself\u001b[39;49m\u001b[39m.\u001b[39;49mmode)\n\u001b[0;32m    291\u001b[0m     \u001b[39mif\u001b[39;00m \u001b[39mself\u001b[39m\u001b[39m.\u001b[39mcompression:\n",
      "\u001b[1;31mPermissionError\u001b[0m: [Errno 13] Permission denied: 'c:/Users/mosta/OneDrive/Documents/AI & Data science/fashion-mnist-classification/logs/lightning_logs/version_0/hparams.yaml'",
      "\nDuring handling of the above exception, another exception occurred:\n",
      "\u001b[1;31mPermissionError\u001b[0m                           Traceback (most recent call last)",
      "\u001b[1;32mc:\\Users\\mosta\\OneDrive\\Documents\\AI & Data science\\fashion-mnist-classification\\fashion_mnist_classification_nn_pytorch.ipynb Cell 10\u001b[0m in \u001b[0;36m2\n\u001b[0;32m      <a href='vscode-notebook-cell:/c%3A/Users/mosta/OneDrive/Documents/AI%20%26%20Data%20science/fashion-mnist-classification/fashion_mnist_classification_nn_pytorch.ipynb#X12sZmlsZQ%3D%3D?line=0'>1</a>\u001b[0m \u001b[39m# Train and validate\u001b[39;00m\n\u001b[1;32m----> <a href='vscode-notebook-cell:/c%3A/Users/mosta/OneDrive/Documents/AI%20%26%20Data%20science/fashion-mnist-classification/fashion_mnist_classification_nn_pytorch.ipynb#X12sZmlsZQ%3D%3D?line=1'>2</a>\u001b[0m train_validate(model, n_epochs\u001b[39m=\u001b[39;49m\u001b[39m25\u001b[39;49m)\n",
      "\u001b[1;32mc:\\Users\\mosta\\OneDrive\\Documents\\AI & Data science\\fashion-mnist-classification\\fashion_mnist_classification_nn_pytorch.ipynb Cell 10\u001b[0m in \u001b[0;36m7\n\u001b[0;32m      <a href='vscode-notebook-cell:/c%3A/Users/mosta/OneDrive/Documents/AI%20%26%20Data%20science/fashion-mnist-classification/fashion_mnist_classification_nn_pytorch.ipynb#X12sZmlsZQ%3D%3D?line=2'>3</a>\u001b[0m trainer \u001b[39m=\u001b[39m pl\u001b[39m.\u001b[39mTrainer(max_epochs\u001b[39m=\u001b[39mn_epochs, callbacks\u001b[39m=\u001b[39m[TQDMProgressBar(refresh_rate\u001b[39m=\u001b[39m\u001b[39m20\u001b[39m)],\n\u001b[0;32m      <a href='vscode-notebook-cell:/c%3A/Users/mosta/OneDrive/Documents/AI%20%26%20Data%20science/fashion-mnist-classification/fashion_mnist_classification_nn_pytorch.ipynb#X12sZmlsZQ%3D%3D?line=3'>4</a>\u001b[0m logger\u001b[39m=\u001b[39mCSVLogger(save_dir\u001b[39m=\u001b[39m\u001b[39m\"\u001b[39m\u001b[39mlogs/\u001b[39m\u001b[39m\"\u001b[39m))\n\u001b[0;32m      <a href='vscode-notebook-cell:/c%3A/Users/mosta/OneDrive/Documents/AI%20%26%20Data%20science/fashion-mnist-classification/fashion_mnist_classification_nn_pytorch.ipynb#X12sZmlsZQ%3D%3D?line=5'>6</a>\u001b[0m \u001b[39m#Training\u001b[39;00m\n\u001b[1;32m----> <a href='vscode-notebook-cell:/c%3A/Users/mosta/OneDrive/Documents/AI%20%26%20Data%20science/fashion-mnist-classification/fashion_mnist_classification_nn_pytorch.ipynb#X12sZmlsZQ%3D%3D?line=6'>7</a>\u001b[0m trainer\u001b[39m.\u001b[39;49mfit(model, dm)\n\u001b[0;32m      <a href='vscode-notebook-cell:/c%3A/Users/mosta/OneDrive/Documents/AI%20%26%20Data%20science/fashion-mnist-classification/fashion_mnist_classification_nn_pytorch.ipynb#X12sZmlsZQ%3D%3D?line=8'>9</a>\u001b[0m \u001b[39m#Printing the losses\u001b[39;00m\n\u001b[0;32m     <a href='vscode-notebook-cell:/c%3A/Users/mosta/OneDrive/Documents/AI%20%26%20Data%20science/fashion-mnist-classification/fashion_mnist_classification_nn_pytorch.ipynb#X12sZmlsZQ%3D%3D?line=9'>10</a>\u001b[0m model\u001b[39m.\u001b[39mplot_losses()\n",
      "File \u001b[1;32m~\\AppData\\Local\\Packages\\PythonSoftwareFoundation.Python.3.10_qbz5n2kfra8p0\\LocalCache\\local-packages\\Python310\\site-packages\\pytorch_lightning\\trainer\\trainer.py:520\u001b[0m, in \u001b[0;36mTrainer.fit\u001b[1;34m(self, model, train_dataloaders, val_dataloaders, datamodule, ckpt_path)\u001b[0m\n\u001b[0;32m    518\u001b[0m model \u001b[39m=\u001b[39m _maybe_unwrap_optimized(model)\n\u001b[0;32m    519\u001b[0m \u001b[39mself\u001b[39m\u001b[39m.\u001b[39mstrategy\u001b[39m.\u001b[39m_lightning_module \u001b[39m=\u001b[39m model\n\u001b[1;32m--> 520\u001b[0m call\u001b[39m.\u001b[39;49m_call_and_handle_interrupt(\n\u001b[0;32m    521\u001b[0m     \u001b[39mself\u001b[39;49m, \u001b[39mself\u001b[39;49m\u001b[39m.\u001b[39;49m_fit_impl, model, train_dataloaders, val_dataloaders, datamodule, ckpt_path\n\u001b[0;32m    522\u001b[0m )\n",
      "File \u001b[1;32m~\\AppData\\Local\\Packages\\PythonSoftwareFoundation.Python.3.10_qbz5n2kfra8p0\\LocalCache\\local-packages\\Python310\\site-packages\\pytorch_lightning\\trainer\\call.py:67\u001b[0m, in \u001b[0;36m_call_and_handle_interrupt\u001b[1;34m(trainer, trainer_fn, *args, **kwargs)\u001b[0m\n\u001b[0;32m     65\u001b[0m trainer\u001b[39m.\u001b[39mstrategy\u001b[39m.\u001b[39mon_exception(exception)\n\u001b[0;32m     66\u001b[0m \u001b[39mfor\u001b[39;00m logger \u001b[39min\u001b[39;00m trainer\u001b[39m.\u001b[39mloggers:\n\u001b[1;32m---> 67\u001b[0m     logger\u001b[39m.\u001b[39;49mfinalize(\u001b[39m\"\u001b[39;49m\u001b[39mfailed\u001b[39;49m\u001b[39m\"\u001b[39;49m)\n\u001b[0;32m     68\u001b[0m trainer\u001b[39m.\u001b[39m_teardown()\n\u001b[0;32m     69\u001b[0m \u001b[39m# teardown might access the stage so we reset it after\u001b[39;00m\n",
      "File \u001b[1;32m~\\AppData\\Local\\Packages\\PythonSoftwareFoundation.Python.3.10_qbz5n2kfra8p0\\LocalCache\\local-packages\\Python310\\site-packages\\lightning_utilities\\core\\rank_zero.py:27\u001b[0m, in \u001b[0;36mrank_zero_only.<locals>.wrapped_fn\u001b[1;34m(*args, **kwargs)\u001b[0m\n\u001b[0;32m     25\u001b[0m     \u001b[39mraise\u001b[39;00m \u001b[39mRuntimeError\u001b[39;00m(\u001b[39m\"\u001b[39m\u001b[39mThe `rank_zero_only.rank` needs to be set before use\u001b[39m\u001b[39m\"\u001b[39m)\n\u001b[0;32m     26\u001b[0m \u001b[39mif\u001b[39;00m rank \u001b[39m==\u001b[39m \u001b[39m0\u001b[39m:\n\u001b[1;32m---> 27\u001b[0m     \u001b[39mreturn\u001b[39;00m fn(\u001b[39m*\u001b[39margs, \u001b[39m*\u001b[39m\u001b[39m*\u001b[39mkwargs)\n\u001b[0;32m     28\u001b[0m \u001b[39mreturn\u001b[39;00m \u001b[39mNone\u001b[39;00m\n",
      "File \u001b[1;32m~\\AppData\\Local\\Packages\\PythonSoftwareFoundation.Python.3.10_qbz5n2kfra8p0\\LocalCache\\local-packages\\Python310\\site-packages\\lightning_fabric\\loggers\\csv_logs.py:151\u001b[0m, in \u001b[0;36mCSVLogger.finalize\u001b[1;34m(self, status)\u001b[0m\n\u001b[0;32m    147\u001b[0m \u001b[39mif\u001b[39;00m \u001b[39mself\u001b[39m\u001b[39m.\u001b[39m_experiment \u001b[39mis\u001b[39;00m \u001b[39mNone\u001b[39;00m:\n\u001b[0;32m    148\u001b[0m     \u001b[39m# When using multiprocessing, finalize() should be a no-op on the main process, as no experiment has been\u001b[39;00m\n\u001b[0;32m    149\u001b[0m     \u001b[39m# initialized there\u001b[39;00m\n\u001b[0;32m    150\u001b[0m     \u001b[39mreturn\u001b[39;00m\n\u001b[1;32m--> 151\u001b[0m \u001b[39mself\u001b[39;49m\u001b[39m.\u001b[39;49msave()\n",
      "File \u001b[1;32m~\\AppData\\Local\\Packages\\PythonSoftwareFoundation.Python.3.10_qbz5n2kfra8p0\\LocalCache\\local-packages\\Python310\\site-packages\\lightning_utilities\\core\\rank_zero.py:27\u001b[0m, in \u001b[0;36mrank_zero_only.<locals>.wrapped_fn\u001b[1;34m(*args, **kwargs)\u001b[0m\n\u001b[0;32m     25\u001b[0m     \u001b[39mraise\u001b[39;00m \u001b[39mRuntimeError\u001b[39;00m(\u001b[39m\"\u001b[39m\u001b[39mThe `rank_zero_only.rank` needs to be set before use\u001b[39m\u001b[39m\"\u001b[39m)\n\u001b[0;32m     26\u001b[0m \u001b[39mif\u001b[39;00m rank \u001b[39m==\u001b[39m \u001b[39m0\u001b[39m:\n\u001b[1;32m---> 27\u001b[0m     \u001b[39mreturn\u001b[39;00m fn(\u001b[39m*\u001b[39margs, \u001b[39m*\u001b[39m\u001b[39m*\u001b[39mkwargs)\n\u001b[0;32m     28\u001b[0m \u001b[39mreturn\u001b[39;00m \u001b[39mNone\u001b[39;00m\n",
      "File \u001b[1;32m~\\AppData\\Local\\Packages\\PythonSoftwareFoundation.Python.3.10_qbz5n2kfra8p0\\LocalCache\\local-packages\\Python310\\site-packages\\lightning_fabric\\loggers\\csv_logs.py:143\u001b[0m, in \u001b[0;36mCSVLogger.save\u001b[1;34m(self)\u001b[0m\n\u001b[0;32m    140\u001b[0m \u001b[39m@rank_zero_only\u001b[39m\n\u001b[0;32m    141\u001b[0m \u001b[39mdef\u001b[39;00m \u001b[39msave\u001b[39m(\u001b[39mself\u001b[39m) \u001b[39m-\u001b[39m\u001b[39m>\u001b[39m \u001b[39mNone\u001b[39;00m:\n\u001b[0;32m    142\u001b[0m     \u001b[39msuper\u001b[39m()\u001b[39m.\u001b[39msave()\n\u001b[1;32m--> 143\u001b[0m     \u001b[39mself\u001b[39;49m\u001b[39m.\u001b[39;49mexperiment\u001b[39m.\u001b[39;49msave()\n",
      "File \u001b[1;32m~\\AppData\\Local\\Packages\\PythonSoftwareFoundation.Python.3.10_qbz5n2kfra8p0\\LocalCache\\local-packages\\Python310\\site-packages\\pytorch_lightning\\loggers\\csv_logs.py:62\u001b[0m, in \u001b[0;36mExperimentWriter.save\u001b[1;34m(self)\u001b[0m\n\u001b[0;32m     60\u001b[0m \u001b[39m\"\"\"Save recorded hparams and metrics into files.\"\"\"\u001b[39;00m\n\u001b[0;32m     61\u001b[0m hparams_file \u001b[39m=\u001b[39m os\u001b[39m.\u001b[39mpath\u001b[39m.\u001b[39mjoin(\u001b[39mself\u001b[39m\u001b[39m.\u001b[39mlog_dir, \u001b[39mself\u001b[39m\u001b[39m.\u001b[39mNAME_HPARAMS_FILE)\n\u001b[1;32m---> 62\u001b[0m save_hparams_to_yaml(hparams_file, \u001b[39mself\u001b[39;49m\u001b[39m.\u001b[39;49mhparams)\n\u001b[0;32m     63\u001b[0m \u001b[39mreturn\u001b[39;00m \u001b[39msuper\u001b[39m()\u001b[39m.\u001b[39msave()\n",
      "File \u001b[1;32m~\\AppData\\Local\\Packages\\PythonSoftwareFoundation.Python.3.10_qbz5n2kfra8p0\\LocalCache\\local-packages\\Python310\\site-packages\\pytorch_lightning\\core\\saving.py:326\u001b[0m, in \u001b[0;36msave_hparams_to_yaml\u001b[1;34m(config_yaml, hparams, use_omegaconf)\u001b[0m\n\u001b[0;32m    323\u001b[0m         hparams_allowed[k] \u001b[39m=\u001b[39m v\n\u001b[0;32m    325\u001b[0m \u001b[39m# saving the standard way\u001b[39;00m\n\u001b[1;32m--> 326\u001b[0m \u001b[39mwith\u001b[39;00m fs\u001b[39m.\u001b[39;49mopen(config_yaml, \u001b[39m\"\u001b[39;49m\u001b[39mw\u001b[39;49m\u001b[39m\"\u001b[39;49m, newline\u001b[39m=\u001b[39;49m\u001b[39m\"\u001b[39;49m\u001b[39m\"\u001b[39;49m) \u001b[39mas\u001b[39;00m fp:\n\u001b[0;32m    327\u001b[0m     yaml\u001b[39m.\u001b[39mdump(hparams_allowed, fp)\n",
      "File \u001b[1;32m~\\AppData\\Local\\Packages\\PythonSoftwareFoundation.Python.3.10_qbz5n2kfra8p0\\LocalCache\\local-packages\\Python310\\site-packages\\fsspec\\spec.py:1139\u001b[0m, in \u001b[0;36mAbstractFileSystem.open\u001b[1;34m(self, path, mode, block_size, cache_options, compression, **kwargs)\u001b[0m\n\u001b[0;32m   1131\u001b[0m     mode \u001b[39m=\u001b[39m mode\u001b[39m.\u001b[39mreplace(\u001b[39m\"\u001b[39m\u001b[39mt\u001b[39m\u001b[39m\"\u001b[39m, \u001b[39m\"\u001b[39m\u001b[39m\"\u001b[39m) \u001b[39m+\u001b[39m \u001b[39m\"\u001b[39m\u001b[39mb\u001b[39m\u001b[39m\"\u001b[39m\n\u001b[0;32m   1133\u001b[0m     text_kwargs \u001b[39m=\u001b[39m {\n\u001b[0;32m   1134\u001b[0m         k: kwargs\u001b[39m.\u001b[39mpop(k)\n\u001b[0;32m   1135\u001b[0m         \u001b[39mfor\u001b[39;00m k \u001b[39min\u001b[39;00m [\u001b[39m\"\u001b[39m\u001b[39mencoding\u001b[39m\u001b[39m\"\u001b[39m, \u001b[39m\"\u001b[39m\u001b[39merrors\u001b[39m\u001b[39m\"\u001b[39m, \u001b[39m\"\u001b[39m\u001b[39mnewline\u001b[39m\u001b[39m\"\u001b[39m]\n\u001b[0;32m   1136\u001b[0m         \u001b[39mif\u001b[39;00m k \u001b[39min\u001b[39;00m kwargs\n\u001b[0;32m   1137\u001b[0m     }\n\u001b[0;32m   1138\u001b[0m     \u001b[39mreturn\u001b[39;00m io\u001b[39m.\u001b[39mTextIOWrapper(\n\u001b[1;32m-> 1139\u001b[0m         \u001b[39mself\u001b[39m\u001b[39m.\u001b[39mopen(\n\u001b[0;32m   1140\u001b[0m             path,\n\u001b[0;32m   1141\u001b[0m             mode,\n\u001b[0;32m   1142\u001b[0m             block_size\u001b[39m=\u001b[39mblock_size,\n\u001b[0;32m   1143\u001b[0m             cache_options\u001b[39m=\u001b[39mcache_options,\n\u001b[0;32m   1144\u001b[0m             compression\u001b[39m=\u001b[39mcompression,\n\u001b[0;32m   1145\u001b[0m             \u001b[39m*\u001b[39m\u001b[39m*\u001b[39mkwargs,\n\u001b[0;32m   1146\u001b[0m         ),\n\u001b[0;32m   1147\u001b[0m         \u001b[39m*\u001b[39m\u001b[39m*\u001b[39mtext_kwargs,\n\u001b[0;32m   1148\u001b[0m     )\n\u001b[0;32m   1149\u001b[0m \u001b[39melse\u001b[39;00m:\n\u001b[0;32m   1150\u001b[0m     ac \u001b[39m=\u001b[39m kwargs\u001b[39m.\u001b[39mpop(\u001b[39m\"\u001b[39m\u001b[39mautocommit\u001b[39m\u001b[39m\"\u001b[39m, \u001b[39mnot\u001b[39;00m \u001b[39mself\u001b[39m\u001b[39m.\u001b[39m_intrans)\n",
      "File \u001b[1;32m~\\AppData\\Local\\Packages\\PythonSoftwareFoundation.Python.3.10_qbz5n2kfra8p0\\LocalCache\\local-packages\\Python310\\site-packages\\fsspec\\spec.py:1151\u001b[0m, in \u001b[0;36mAbstractFileSystem.open\u001b[1;34m(self, path, mode, block_size, cache_options, compression, **kwargs)\u001b[0m\n\u001b[0;32m   1149\u001b[0m \u001b[39melse\u001b[39;00m:\n\u001b[0;32m   1150\u001b[0m     ac \u001b[39m=\u001b[39m kwargs\u001b[39m.\u001b[39mpop(\u001b[39m\"\u001b[39m\u001b[39mautocommit\u001b[39m\u001b[39m\"\u001b[39m, \u001b[39mnot\u001b[39;00m \u001b[39mself\u001b[39m\u001b[39m.\u001b[39m_intrans)\n\u001b[1;32m-> 1151\u001b[0m     f \u001b[39m=\u001b[39m \u001b[39mself\u001b[39m\u001b[39m.\u001b[39m_open(\n\u001b[0;32m   1152\u001b[0m         path,\n\u001b[0;32m   1153\u001b[0m         mode\u001b[39m=\u001b[39mmode,\n\u001b[0;32m   1154\u001b[0m         block_size\u001b[39m=\u001b[39mblock_size,\n\u001b[0;32m   1155\u001b[0m         autocommit\u001b[39m=\u001b[39mac,\n\u001b[0;32m   1156\u001b[0m         cache_options\u001b[39m=\u001b[39mcache_options,\n\u001b[0;32m   1157\u001b[0m         \u001b[39m*\u001b[39m\u001b[39m*\u001b[39mkwargs,\n\u001b[0;32m   1158\u001b[0m     )\n\u001b[0;32m   1159\u001b[0m     \u001b[39mif\u001b[39;00m compression \u001b[39mis\u001b[39;00m \u001b[39mnot\u001b[39;00m \u001b[39mNone\u001b[39;00m:\n\u001b[0;32m   1160\u001b[0m         \u001b[39mfrom\u001b[39;00m \u001b[39mfsspec\u001b[39;00m\u001b[39m.\u001b[39;00m\u001b[39mcompression\u001b[39;00m \u001b[39mimport\u001b[39;00m compr\n",
      "File \u001b[1;32m~\\AppData\\Local\\Packages\\PythonSoftwareFoundation.Python.3.10_qbz5n2kfra8p0\\LocalCache\\local-packages\\Python310\\site-packages\\fsspec\\implementations\\local.py:183\u001b[0m, in \u001b[0;36mLocalFileSystem._open\u001b[1;34m(self, path, mode, block_size, **kwargs)\u001b[0m\n\u001b[0;32m    181\u001b[0m \u001b[39mif\u001b[39;00m \u001b[39mself\u001b[39m\u001b[39m.\u001b[39mauto_mkdir \u001b[39mand\u001b[39;00m \u001b[39m\"\u001b[39m\u001b[39mw\u001b[39m\u001b[39m\"\u001b[39m \u001b[39min\u001b[39;00m mode:\n\u001b[0;32m    182\u001b[0m     \u001b[39mself\u001b[39m\u001b[39m.\u001b[39mmakedirs(\u001b[39mself\u001b[39m\u001b[39m.\u001b[39m_parent(path), exist_ok\u001b[39m=\u001b[39m\u001b[39mTrue\u001b[39;00m)\n\u001b[1;32m--> 183\u001b[0m \u001b[39mreturn\u001b[39;00m LocalFileOpener(path, mode, fs\u001b[39m=\u001b[39m\u001b[39mself\u001b[39m, \u001b[39m*\u001b[39m\u001b[39m*\u001b[39mkwargs)\n",
      "File \u001b[1;32m~\\AppData\\Local\\Packages\\PythonSoftwareFoundation.Python.3.10_qbz5n2kfra8p0\\LocalCache\\local-packages\\Python310\\site-packages\\fsspec\\implementations\\local.py:285\u001b[0m, in \u001b[0;36mLocalFileOpener.__init__\u001b[1;34m(self, path, mode, autocommit, fs, compression, **kwargs)\u001b[0m\n\u001b[0;32m    283\u001b[0m \u001b[39mself\u001b[39m\u001b[39m.\u001b[39mcompression \u001b[39m=\u001b[39m get_compression(path, compression)\n\u001b[0;32m    284\u001b[0m \u001b[39mself\u001b[39m\u001b[39m.\u001b[39mblocksize \u001b[39m=\u001b[39m io\u001b[39m.\u001b[39mDEFAULT_BUFFER_SIZE\n\u001b[1;32m--> 285\u001b[0m \u001b[39mself\u001b[39;49m\u001b[39m.\u001b[39;49m_open()\n",
      "File \u001b[1;32m~\\AppData\\Local\\Packages\\PythonSoftwareFoundation.Python.3.10_qbz5n2kfra8p0\\LocalCache\\local-packages\\Python310\\site-packages\\fsspec\\implementations\\local.py:290\u001b[0m, in \u001b[0;36mLocalFileOpener._open\u001b[1;34m(self)\u001b[0m\n\u001b[0;32m    288\u001b[0m \u001b[39mif\u001b[39;00m \u001b[39mself\u001b[39m\u001b[39m.\u001b[39mf \u001b[39mis\u001b[39;00m \u001b[39mNone\u001b[39;00m \u001b[39mor\u001b[39;00m \u001b[39mself\u001b[39m\u001b[39m.\u001b[39mf\u001b[39m.\u001b[39mclosed:\n\u001b[0;32m    289\u001b[0m     \u001b[39mif\u001b[39;00m \u001b[39mself\u001b[39m\u001b[39m.\u001b[39mautocommit \u001b[39mor\u001b[39;00m \u001b[39m\"\u001b[39m\u001b[39mw\u001b[39m\u001b[39m\"\u001b[39m \u001b[39mnot\u001b[39;00m \u001b[39min\u001b[39;00m \u001b[39mself\u001b[39m\u001b[39m.\u001b[39mmode:\n\u001b[1;32m--> 290\u001b[0m         \u001b[39mself\u001b[39m\u001b[39m.\u001b[39mf \u001b[39m=\u001b[39m \u001b[39mopen\u001b[39;49m(\u001b[39mself\u001b[39;49m\u001b[39m.\u001b[39;49mpath, mode\u001b[39m=\u001b[39;49m\u001b[39mself\u001b[39;49m\u001b[39m.\u001b[39;49mmode)\n\u001b[0;32m    291\u001b[0m         \u001b[39mif\u001b[39;00m \u001b[39mself\u001b[39m\u001b[39m.\u001b[39mcompression:\n\u001b[0;32m    292\u001b[0m             compress \u001b[39m=\u001b[39m compr[\u001b[39mself\u001b[39m\u001b[39m.\u001b[39mcompression]\n",
      "\u001b[1;31mPermissionError\u001b[0m: [Errno 13] Permission denied: 'c:/Users/mosta/OneDrive/Documents/AI & Data science/fashion-mnist-classification/logs/lightning_logs/version_0/hparams.yaml'"
     ]
    }
   ],
   "source": [
    "# Train and validate\n",
    "train_validate(model, n_epochs=25)"
   ]
  },
  {
   "cell_type": "markdown",
   "metadata": {},
   "source": [
    "### Predict a single image"
   ]
  },
  {
   "cell_type": "code",
   "execution_count": 23,
   "metadata": {},
   "outputs": [
    {
     "ename": "AttributeError",
     "evalue": "'FashionMNISTDataModule' object has no attribute 'test_dataset'",
     "output_type": "error",
     "traceback": [
      "\u001b[1;31m---------------------------------------------------------------------------\u001b[0m",
      "\u001b[1;31mAttributeError\u001b[0m                            Traceback (most recent call last)",
      "\u001b[1;32mc:\\Users\\mosta\\OneDrive\\Documents\\AI & Data science\\fashion-mnist-classification\\fashion_mnist_classification_nn_pytorch.ipynb Cell 12\u001b[0m in \u001b[0;36m5\n\u001b[0;32m      <a href='vscode-notebook-cell:/c%3A/Users/mosta/OneDrive/Documents/AI%20%26%20Data%20science/fashion-mnist-classification/fashion_mnist_classification_nn_pytorch.ipynb#X13sZmlsZQ%3D%3D?line=1'>2</a>\u001b[0m get_ipython()\u001b[39m.\u001b[39mrun_line_magic(\u001b[39m'\u001b[39m\u001b[39mconfig\u001b[39m\u001b[39m'\u001b[39m, \u001b[39m\"\u001b[39m\u001b[39mInlineBackend.figure_format = \u001b[39m\u001b[39m'\u001b[39m\u001b[39mretina\u001b[39m\u001b[39m'\u001b[39m\u001b[39m\"\u001b[39m)\n\u001b[0;32m      <a href='vscode-notebook-cell:/c%3A/Users/mosta/OneDrive/Documents/AI%20%26%20Data%20science/fashion-mnist-classification/fashion_mnist_classification_nn_pytorch.ipynb#X13sZmlsZQ%3D%3D?line=3'>4</a>\u001b[0m index \u001b[39m=\u001b[39m \u001b[39m0\u001b[39m\n\u001b[1;32m----> <a href='vscode-notebook-cell:/c%3A/Users/mosta/OneDrive/Documents/AI%20%26%20Data%20science/fashion-mnist-classification/fashion_mnist_classification_nn_pytorch.ipynb#X13sZmlsZQ%3D%3D?line=4'>5</a>\u001b[0m img, label \u001b[39m=\u001b[39m dm\u001b[39m.\u001b[39;49mtest_dataset[index]\n\u001b[0;32m      <a href='vscode-notebook-cell:/c%3A/Users/mosta/OneDrive/Documents/AI%20%26%20Data%20science/fashion-mnist-classification/fashion_mnist_classification_nn_pytorch.ipynb#X13sZmlsZQ%3D%3D?line=6'>7</a>\u001b[0m label \u001b[39m=\u001b[39m torch\u001b[39m.\u001b[39mtensor(label) \u001b[39mif\u001b[39;00m \u001b[39mnot\u001b[39;00m \u001b[39misinstance\u001b[39m(label, torch\u001b[39m.\u001b[39mTensor) \u001b[39melse\u001b[39;00m label\n\u001b[0;32m      <a href='vscode-notebook-cell:/c%3A/Users/mosta/OneDrive/Documents/AI%20%26%20Data%20science/fashion-mnist-classification/fashion_mnist_classification_nn_pytorch.ipynb#X13sZmlsZQ%3D%3D?line=8'>9</a>\u001b[0m img \u001b[39m=\u001b[39m img\u001b[39m.\u001b[39mview(\u001b[39m-\u001b[39m\u001b[39m1\u001b[39m, \u001b[39m28\u001b[39m\u001b[39m*\u001b[39m\u001b[39m28\u001b[39m)\n",
      "\u001b[1;31mAttributeError\u001b[0m: 'FashionMNISTDataModule' object has no attribute 'test_dataset'"
     ]
    }
   ],
   "source": [
    "%matplotlib inline\n",
    "%config InlineBackend.figure_format = 'retina'\n",
    "\n",
    "index = 0\n",
    "img, label = dm.test_dataset[index]\n",
    "\n",
    "label = torch.tensor(label) if not isinstance(label, torch.Tensor) else label\n",
    "\n",
    "img = img.view(-1, 28*28)\n",
    "\n",
    "# Calculate the class probabilities (softmax) for img\n",
    "proba = torch.exp(model(img.unsqueeze(0)))\n",
    "\n",
    "# Plot the image and probabilities\n",
    "desc = ['T-shirt/top','Trouser','Pullover','Dress','Coat','Sandal','Shirt','Sneaker','Bag','Ankle Boot']\n",
    "fig, (ax1, ax2) =  plt.subplots(figsize=(13, 6), nrows=1, ncols=2)\n",
    "ax1.axis('off')\n",
    "ax1.imshow(img.squeeze().reshape(28, 28))\n",
    "ax1.set_title(desc[label.item()])\n",
    "ax2.bar(range(10), proba.detach().cpu().numpy().squeeze())\n",
    "ax2.set_xticks(range(10))\n",
    "ax2.set_xticklabels(desc, size='small')\n",
    "ax2.set_title('Predicted Probabilities')\n",
    "plt.tight_layout()"
   ]
  },
  {
   "cell_type": "markdown",
   "metadata": {},
   "source": [
    "## Validate on test set"
   ]
  },
  {
   "cell_type": "code",
   "execution_count": null,
   "metadata": {},
   "outputs": [
    {
     "name": "stderr",
     "output_type": "stream",
     "text": [
      "Missing logger folder: logs/lightning_logs\n",
      "C:\\Users\\mosta\\AppData\\Local\\Packages\\PythonSoftwareFoundation.Python.3.10_qbz5n2kfra8p0\\LocalCache\\local-packages\\Python310\\site-packages\\pytorch_lightning\\trainer\\connectors\\data_connector.py:478: PossibleUserWarning: Your `test_dataloader`'s sampler has shuffling enabled, it is strongly recommended that you turn shuffling off for val/test dataloaders.\n",
      "  rank_zero_warn(\n",
      "C:\\Users\\mosta\\AppData\\Local\\Packages\\PythonSoftwareFoundation.Python.3.10_qbz5n2kfra8p0\\LocalCache\\local-packages\\Python310\\site-packages\\pytorch_lightning\\trainer\\connectors\\data_connector.py:430: PossibleUserWarning: The dataloader, test_dataloader, does not have many workers which may be a bottleneck. Consider increasing the value of the `num_workers` argument` (try 8 which is the number of cpus on this machine) in the `DataLoader` init to improve performance.\n",
      "  rank_zero_warn(\n"
     ]
    },
    {
     "name": "stdout",
     "output_type": "stream",
     "text": [
      "Testing DataLoader 0: 100%|██████████| 157/157 [00:02<00:00, 59.34it/s]\n",
      "────────────────────────────────────────────────────────────────────────────────────────────────────────────────────────\n",
      "       Test metric             DataLoader 0\n",
      "────────────────────────────────────────────────────────────────────────────────────────────────────────────────────────\n",
      "        test_acc            0.09350000321865082\n",
      "        test_loss            2.311596393585205\n",
      "────────────────────────────────────────────────────────────────────────────────────────────────────────────────────────\n"
     ]
    },
    {
     "data": {
      "text/plain": [
       "[{'test_loss': 2.311596393585205, 'test_acc': 0.09350000321865082}]"
      ]
     },
     "execution_count": 98,
     "metadata": {},
     "output_type": "execute_result"
    }
   ],
   "source": [
    "# Validate\n",
    "trainer.test(model, datamodule=dm)"
   ]
  },
  {
   "cell_type": "markdown",
   "metadata": {},
   "source": [
    "## More powerful model"
   ]
  },
  {
   "cell_type": "code",
   "execution_count": 20,
   "metadata": {},
   "outputs": [],
   "source": [
    "# Redefine network with dropout layers in between\n",
    "model.network = nn.Sequential(OrderedDict([('fc1', nn.Linear(784, 392)),\n",
    "                                       ('relu1', nn.ReLU()),\n",
    "                                       ('drop1', nn.Dropout(0.25)),\n",
    "                                       ('fc12', nn.Linear(392, 196)),\n",
    "                                       ('relu2', nn.ReLU()),\n",
    "                                       ('drop2', nn.Dropout(0.25)),\n",
    "                                       ('fc3', nn.Linear(196, 98)),\n",
    "                                       ('relu3', nn.ReLU()),\n",
    "                                       ('drop3', nn.Dropout(0.25)),                                       \n",
    "                                       ('fc4', nn.Linear(98, 49)),\n",
    "                                       ('relu4', nn.ReLU()),\n",
    "                                       ('output', nn.Linear(49, 10)),\n",
    "                                       ('logsoftmax', nn.LogSoftmax(dim=1))]))"
   ]
  },
  {
   "cell_type": "code",
   "execution_count": 21,
   "metadata": {},
   "outputs": [
    {
     "data": {
      "text/plain": [
       "Sequential(\n",
       "  (fc1): Linear(in_features=784, out_features=392, bias=True)\n",
       "  (relu1): ReLU()\n",
       "  (drop1): Dropout(p=0.25, inplace=False)\n",
       "  (fc12): Linear(in_features=392, out_features=196, bias=True)\n",
       "  (relu2): ReLU()\n",
       "  (drop2): Dropout(p=0.25, inplace=False)\n",
       "  (fc3): Linear(in_features=196, out_features=98, bias=True)\n",
       "  (relu3): ReLU()\n",
       "  (drop3): Dropout(p=0.25, inplace=False)\n",
       "  (fc4): Linear(in_features=98, out_features=49, bias=True)\n",
       "  (relu4): ReLU()\n",
       "  (output): Linear(in_features=49, out_features=10, bias=True)\n",
       "  (logsoftmax): LogSoftmax(dim=1)\n",
       ")"
      ]
     },
     "execution_count": 21,
     "metadata": {},
     "output_type": "execute_result"
    }
   ],
   "source": [
    "model"
   ]
  },
  {
   "cell_type": "code",
   "execution_count": 14,
   "metadata": {},
   "outputs": [
    {
     "name": "stdout",
     "output_type": "stream",
     "text": [
      "Epoch: 0 -> train_loss: 0.6855045186281204517, val_loss: 0.4465020298957824707,  val_acc: 84.07%\n",
      "Epoch: 1 -> train_loss: 0.4642426335414250871, val_loss: 0.4065601229667663574,  val_acc: 85.46%\n",
      "Epoch: 2 -> train_loss: 0.4183805910150210083, val_loss: 0.3935156464576721191,  val_acc: 85.79%\n",
      "Epoch: 3 -> train_loss: 0.3921241991321245957, val_loss: 0.3722155690193176270,  val_acc: 86.65%\n",
      "Epoch: 4 -> train_loss: 0.3697275487581888620, val_loss: 0.3648492991924285889,  val_acc: 86.98%\n",
      "Epoch: 5 -> train_loss: 0.3555079794029394891, val_loss: 0.3529390692710876465,  val_acc: 86.83%\n",
      "Epoch: 6 -> train_loss: 0.3443926275670528558, val_loss: 0.3248184919357299805,  val_acc: 88.38%\n",
      "Epoch: 7 -> train_loss: 0.3269262994229793495, val_loss: 0.3249777853488922119,  val_acc: 88.48%\n",
      "Epoch: 8 -> train_loss: 0.3205269113381703505, val_loss: 0.3181797266006469727,  val_acc: 88.50%\n",
      "Epoch: 9 -> train_loss: 0.3130609797338644862, val_loss: 0.3347418010234832764,  val_acc: 87.97%\n",
      "Epoch: 10 -> train_loss: 0.3017809143265088312, val_loss: 0.3094406723976135254,  val_acc: 88.93%\n",
      "Epoch: 11 -> train_loss: 0.2938862778643767104, val_loss: 0.3110043704509735107,  val_acc: 89.11%\n",
      "Epoch: 12 -> train_loss: 0.2889472188850243928, val_loss: 0.3099343180656433105,  val_acc: 88.59%\n",
      "Epoch: 13 -> train_loss: 0.2824507220188776646, val_loss: 0.3138929605484008789,  val_acc: 88.90%\n",
      "Epoch: 14 -> train_loss: 0.2768487163285414110, val_loss: 0.3210067451000213623,  val_acc: 89.05%\n",
      "Epoch: 15 -> train_loss: 0.2713282869557539501, val_loss: 0.3040482401847839355,  val_acc: 89.21%\n",
      "Epoch: 16 -> train_loss: 0.2668976983030637018, val_loss: 0.3118472397327423096,  val_acc: 88.61%\n",
      "Epoch: 17 -> train_loss: 0.2617385173340638360, val_loss: 0.3063040673732757568,  val_acc: 89.19%\n",
      "Epoch: 18 -> train_loss: 0.2565816362599531719, val_loss: 0.3281426727771759033,  val_acc: 88.54%\n",
      "Epoch: 19 -> train_loss: 0.2517889645546674826, val_loss: 0.3071959316730499268,  val_acc: 89.14%\n",
      "Epoch: 20 -> train_loss: 0.2440039268235365544, val_loss: 0.3131408989429473877,  val_acc: 89.00%\n",
      "Epoch: 21 -> train_loss: 0.2468546137412389041, val_loss: 0.2994027137756347656,  val_acc: 89.35%\n",
      "Epoch: 22 -> train_loss: 0.2431846132675806738, val_loss: 0.3019925653934478760,  val_acc: 89.43%\n",
      "Epoch: 23 -> train_loss: 0.2372386408646901534, val_loss: 0.3041537702083587646,  val_acc: 89.48%\n",
      "Epoch: 24 -> train_loss: 0.2334201569706201573, val_loss: 0.3008937537670135498,  val_acc: 89.57%\n",
      "Epoch: 25 -> train_loss: 0.2245796053061882569, val_loss: 0.3180147707462310791,  val_acc: 89.43%\n",
      "Epoch: 26 -> train_loss: 0.2262434597611427400, val_loss: 0.3108238577842712402,  val_acc: 89.46%\n",
      "Epoch: 27 -> train_loss: 0.2180396950195233052, val_loss: 0.3181021511554718018,  val_acc: 89.35%\n",
      "Epoch: 28 -> train_loss: 0.2179286869963010242, val_loss: 0.3034222126007080078,  val_acc: 89.92%\n",
      "Epoch: 29 -> train_loss: 0.2175867655227581576, val_loss: 0.3034799396991729736,  val_acc: 89.90%\n",
      "Epoch: 30 -> train_loss: 0.2101290639191865928, val_loss: 0.3163310289382934570,  val_acc: 89.27%\n",
      "Epoch: 31 -> train_loss: 0.2081965753585100221, val_loss: 0.3089722096920013428,  val_acc: 89.66%\n",
      "Epoch: 32 -> train_loss: 0.2086356645971536583, val_loss: 0.3082575798034667969,  val_acc: 89.68%\n",
      "Epoch: 33 -> train_loss: 0.2085854633649190382, val_loss: 0.3115310966968536377,  val_acc: 89.39%\n",
      "Epoch: 34 -> train_loss: 0.1989648324102163413, val_loss: 0.3230003118515014648,  val_acc: 89.35%\n"
     ]
    },
    {
     "data": {
      "image/png": "[encoded data removed]",
      "text/plain": [
       "<Figure size 640x480 with 1 Axes>"
      ]
     },
     "metadata": {
      "image/png": {
       "height": 413,
       "width": 547
      }
     },
     "output_type": "display_data"
    }
   ],
   "source": [
    "#Fitting the model to trainer\n",
    "trainer.fit(model, dm)\n",
    "\n",
    "# Train and validate again with new architecture\n",
    "train_validate(model, n_epochs=35)"
   ]
  },
  {
   "cell_type": "markdown",
   "metadata": {},
   "source": [
    "## Validate on test set"
   ]
  },
  {
   "cell_type": "code",
   "execution_count": 15,
   "metadata": {},
   "outputs": [
    {
     "name": "stdout",
     "output_type": "stream",
     "text": [
      "Accuracy: 88.65%\n"
     ]
    }
   ],
   "source": [
    "# Validate\n",
    "trainer.test(model, datamodule=dm)"
   ]
  }
 ],
 "metadata": {
  "kernelspec": {
   "display_name": "Python 3",
   "language": "python",
   "name": "python3"
  },
  "language_info": {
   "codemirror_mode": {
    "name": "ipython",
    "version": 3
   },
   "file_extension": ".py",
   "mimetype": "text/x-python",
   "name": "python",
   "nbconvert_exporter": "python",
   "pygments_lexer": "ipython3",
   "version": "3.10.10"
  }
 },
 "nbformat": 4,
 "nbformat_minor": 4
}
