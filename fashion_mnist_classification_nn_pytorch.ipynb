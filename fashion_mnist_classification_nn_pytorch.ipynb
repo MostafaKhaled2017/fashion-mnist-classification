{
 "cells": [
  {
   "cell_type": "markdown",
   "metadata": {},
   "source": [
    "# Fashion-MNIST Classification using Neural Network\n",
    "\n",
    "In this notebook, we'll build a neural network to classify Fashion-MNIST images"
   ]
  },
  {
   "cell_type": "code",
   "execution_count": 1,
   "metadata": {},
   "outputs": [
    {
     "name": "stderr",
     "output_type": "stream",
     "text": [
      "C:\\Users\\mosta\\AppData\\Local\\Packages\\PythonSoftwareFoundation.Python.3.10_qbz5n2kfra8p0\\LocalCache\\local-packages\\Python310\\site-packages\\tqdm\\auto.py:22: TqdmWarning: IProgress not found. Please update jupyter and ipywidgets. See https://ipywidgets.readthedocs.io/en/stable/user_install.html\n",
      "  from .autonotebook import tqdm as notebook_tqdm\n"
     ]
    },
    {
     "name": "stdout",
     "output_type": "stream",
     "text": [
      "Downloading http://fashion-mnist.s3-website.eu-central-1.amazonaws.com/train-images-idx3-ubyte.gz\n",
      "Downloading http://fashion-mnist.s3-website.eu-central-1.amazonaws.com/train-images-idx3-ubyte.gz to F_MNIST_data\\FashionMNIST\\raw\\train-images-idx3-ubyte.gz\n"
     ]
    },
    {
     "name": "stderr",
     "output_type": "stream",
     "text": [
      "100%|██████████| 26421880/26421880 [00:03<00:00, 7265665.70it/s] \n"
     ]
    },
    {
     "name": "stdout",
     "output_type": "stream",
     "text": [
      "Extracting F_MNIST_data\\FashionMNIST\\raw\\train-images-idx3-ubyte.gz to F_MNIST_data\\FashionMNIST\\raw\n",
      "\n",
      "Downloading http://fashion-mnist.s3-website.eu-central-1.amazonaws.com/train-labels-idx1-ubyte.gz\n",
      "Downloading http://fashion-mnist.s3-website.eu-central-1.amazonaws.com/train-labels-idx1-ubyte.gz to F_MNIST_data\\FashionMNIST\\raw\\train-labels-idx1-ubyte.gz\n"
     ]
    },
    {
     "name": "stderr",
     "output_type": "stream",
     "text": [
      "100%|██████████| 29515/29515 [00:00<00:00, 340550.52it/s]\n"
     ]
    },
    {
     "name": "stdout",
     "output_type": "stream",
     "text": [
      "Extracting F_MNIST_data\\FashionMNIST\\raw\\train-labels-idx1-ubyte.gz to F_MNIST_data\\FashionMNIST\\raw\n",
      "\n",
      "Downloading http://fashion-mnist.s3-website.eu-central-1.amazonaws.com/t10k-images-idx3-ubyte.gz\n",
      "Downloading http://fashion-mnist.s3-website.eu-central-1.amazonaws.com/t10k-images-idx3-ubyte.gz to F_MNIST_data\\FashionMNIST\\raw\\t10k-images-idx3-ubyte.gz\n"
     ]
    },
    {
     "name": "stderr",
     "output_type": "stream",
     "text": [
      "100%|██████████| 4422102/4422102 [00:02<00:00, 1987586.25it/s]\n"
     ]
    },
    {
     "name": "stdout",
     "output_type": "stream",
     "text": [
      "Extracting F_MNIST_data\\FashionMNIST\\raw\\t10k-images-idx3-ubyte.gz to F_MNIST_data\\FashionMNIST\\raw\n",
      "\n",
      "Downloading http://fashion-mnist.s3-website.eu-central-1.amazonaws.com/t10k-labels-idx1-ubyte.gz\n",
      "Downloading http://fashion-mnist.s3-website.eu-central-1.amazonaws.com/t10k-labels-idx1-ubyte.gz to F_MNIST_data\\FashionMNIST\\raw\\t10k-labels-idx1-ubyte.gz\n"
     ]
    },
    {
     "name": "stderr",
     "output_type": "stream",
     "text": [
      "100%|██████████| 5148/5148 [00:00<00:00, 5123938.54it/s]"
     ]
    },
    {
     "name": "stdout",
     "output_type": "stream",
     "text": [
      "Extracting F_MNIST_data\\FashionMNIST\\raw\\t10k-labels-idx1-ubyte.gz to F_MNIST_data\\FashionMNIST\\raw\n",
      "\n"
     ]
    },
    {
     "name": "stderr",
     "output_type": "stream",
     "text": [
      "\n"
     ]
    }
   ],
   "source": [
    "import numpy as np\n",
    "import torch\n",
    "import torch.nn as nn\n",
    "import torch.optim as optim\n",
    "from torchvision import datasets, transforms\n",
    "import matplotlib.pyplot as plt\n",
    "from collections import OrderedDict\n",
    "\n",
    "# Download training and testing data\n",
    "transform = transforms.Compose([transforms.ToTensor(),\n",
    "                                transforms.Normalize((0.5,), (0.5,))])\n",
    "train_ds = datasets.FashionMNIST('F_MNIST_data', download=True, train=True, transform=transform)\n",
    "test_ds = datasets.FashionMNIST('F_MNIST_data', download=True, train=False, transform=transform)"
   ]
  },
  {
   "cell_type": "code",
   "execution_count": 2,
   "metadata": {},
   "outputs": [
    {
     "data": {
      "text/plain": [
       "(12000, 48000)"
      ]
     },
     "execution_count": 2,
     "metadata": {},
     "output_type": "execute_result"
    }
   ],
   "source": [
    "# split train set into training (80%) and validation set (20%)\n",
    "train_num = len(train_ds)\n",
    "indices = list(range(train_num))\n",
    "np.random.shuffle(indices)\n",
    "split = int(np.floor(0.2 * train_num))\n",
    "val_idx, train_idx = indices[:split], indices[split:]\n",
    "len(val_idx), len(train_idx)"
   ]
  },
  {
   "cell_type": "code",
   "execution_count": 3,
   "metadata": {},
   "outputs": [],
   "source": [
    "# prepare dataloaders\n",
    "train_sampler = torch.utils.data.sampler.SubsetRandomSampler(train_idx)\n",
    "train_dl = torch.utils.data.DataLoader(train_ds, batch_size=64, sampler=train_sampler)\n",
    "val_sampler = torch.utils.data.sampler.SubsetRandomSampler(val_idx)\n",
    "val_dl = torch.utils.data.DataLoader(train_ds, batch_size=64, sampler=val_sampler)\n",
    "test_dl = torch.utils.data.DataLoader(test_ds, batch_size=64, shuffle=True)"
   ]
  },
  {
   "cell_type": "code",
   "execution_count": 4,
   "metadata": {},
   "outputs": [
    {
     "name": "stdout",
     "output_type": "stream",
     "text": [
      "torch.Size([1, 28, 28]) torch.Size([64])\n",
      "Sneaker\n"
     ]
    },
    {
     "data": {
      "image/png": "[encoded data removed]",
      "text/plain": [
       "<Figure size 640x480 with 1 Axes>"
      ]
     },
     "metadata": {},
     "output_type": "display_data"
    }
   ],
   "source": [
    "image, label = next(iter(train_dl))\n",
    "print(image[0].shape, label.shape)\n",
    "desc = ['T-shirt/top','Trouser','Pullover','Dress','Coat','Sandal','Shirt','Sneaker','Bag','Ankle Boot']\n",
    "print(desc[label[0].item()])\n",
    "plt.imshow(image[0].numpy().squeeze(), cmap='gray');"
   ]
  },
  {
   "cell_type": "markdown",
   "metadata": {},
   "source": [
    "## Build the network"
   ]
  },
  {
   "cell_type": "code",
   "execution_count": 5,
   "metadata": {},
   "outputs": [],
   "source": [
    "def network():\n",
    "    model = nn.Sequential(OrderedDict([('fc1', nn.Linear(784, 128)),\n",
    "                                       ('relu1', nn.ReLU()),\n",
    "                                       ('drop1', nn.Dropout(0.25)),                                       \n",
    "                                       ('fc2', nn.Linear(128, 64)),\n",
    "                                       ('relu2', nn.ReLU()),\n",
    "                                       ('drop1', nn.Dropout(0.25)),                                       \n",
    "                                       ('output', nn.Linear(64, 10)),\n",
    "                                       ('logsoftmax', nn.LogSoftmax(dim=1))]))\n",
    "    # Use GPU if available\n",
    "    device = 'cuda' if torch.cuda.is_available() else 'cpu'\n",
    "    model = model.to(device)\n",
    "\n",
    "    # define the criterion and optimizer\n",
    "    loss_fn = nn.NLLLoss()\n",
    "    optimizer = optim.Adam(model.parameters(), lr=0.003)\n",
    "\n",
    "    return model, loss_fn, optimizer, device                      "
   ]
  },
  {
   "cell_type": "code",
   "execution_count": 7,
   "metadata": {},
   "outputs": [
    {
     "name": "stdout",
     "output_type": "stream",
     "text": [
      "Sequential(\n",
      "  (fc1): Linear(in_features=784, out_features=128, bias=True)\n",
      "  (relu1): ReLU()\n",
      "  (drop1): Dropout(p=0.25, inplace=False)\n",
      "  (fc2): Linear(in_features=128, out_features=64, bias=True)\n",
      "  (relu2): ReLU()\n",
      "  (output): Linear(in_features=64, out_features=10, bias=True)\n",
      "  (logsoftmax): LogSoftmax(dim=1)\n",
      ")\n"
     ]
    }
   ],
   "source": [
    "model, loss_fn, optimizer, device = network()\n",
    "\n",
    "print(model)"
   ]
  },
  {
   "cell_type": "markdown",
   "metadata": {},
   "source": [
    "## Train the network"
   ]
  },
  {
   "cell_type": "code",
   "execution_count": 8,
   "metadata": {},
   "outputs": [],
   "source": [
    "def train_validate(model, loss_fn, optimizer, trainloader, testloader, device, n_epochs=25):\n",
    "    train_losses = []\n",
    "    test_losses = []\n",
    "    for epoch in range(n_epochs):\n",
    "        # Set mode to training - Dropouts will be used here\n",
    "        model.train()\n",
    "        train_epoch_loss = 0\n",
    "        for images, labels in trainloader:\n",
    "            images, labels = images.to(device), labels.to(device)\n",
    "            # flatten the images to batch_size x 784\n",
    "            images = images.view(images.shape[0], -1)\n",
    "            # forward pass\n",
    "            outputs = model(images)\n",
    "            # backpropogation\n",
    "            train_batch_loss = loss_fn(outputs, labels)\n",
    "            optimizer.zero_grad()\n",
    "            train_batch_loss.backward()\n",
    "            # Weight updates\n",
    "            optimizer.step()\n",
    "            train_epoch_loss += train_batch_loss.item()\n",
    "        else:\n",
    "            # One epoch of training complete\n",
    "            # calculate average training epoch loss\n",
    "            train_epoch_loss = train_epoch_loss/len(trainloader)\n",
    "\n",
    "            # Now Validate on testset\n",
    "            with torch.no_grad():\n",
    "                test_epoch_acc = 0\n",
    "                test_epoch_loss = 0\n",
    "                # Set mode to eval - Dropouts will NOT be used here\n",
    "                model.eval()\n",
    "                for images, labels in testloader:\n",
    "                    images, labels = images.to(device), labels.to(device)                    \n",
    "                    # flatten images to batch_size x 784\n",
    "                    images = images.view(images.shape[0], -1)\n",
    "                    # make predictions \n",
    "                    test_outputs = model(images)\n",
    "                    # calculate test loss\n",
    "                    test_batch_loss = loss_fn(test_outputs, labels)\n",
    "                    test_epoch_loss += test_batch_loss\n",
    "                    \n",
    "                    # get probabilities, extract the class associated with highest probability\n",
    "                    proba = torch.exp(test_outputs)\n",
    "                    _, pred_labels = proba.topk(1, dim=1)\n",
    "                    \n",
    "                    # compare actual labels and predicted labels\n",
    "                    result = pred_labels == labels.view(pred_labels.shape)\n",
    "                    batch_acc = torch.mean(result.type(torch.FloatTensor))\n",
    "                    test_epoch_acc += batch_acc.item()\n",
    "                else:\n",
    "                    # One epoch of training and validation done\n",
    "                    # calculate average testing epoch loss\n",
    "                    test_epoch_loss = test_epoch_loss/len(testloader)\n",
    "                    # calculate accuracy as correct_pred/total_samples\n",
    "                    test_epoch_acc = test_epoch_acc/len(testloader)\n",
    "                    # save epoch losses for plotting\n",
    "                    train_losses.append(train_epoch_loss)\n",
    "                    test_losses.append(test_epoch_loss)\n",
    "                    # print stats for this epoch\n",
    "                    print(f'Epoch: {epoch} -> train_loss: {train_epoch_loss:.19f}, val_loss: {test_epoch_loss:.19f}, ',\n",
    "                          f'val_acc: {test_epoch_acc*100:.2f}%')\n",
    "    # Finally plot losses\n",
    "    plt.plot(train_losses, label='train-loss')\n",
    "    plt.plot(test_losses, label='val-loss')\n",
    "    plt.legend()\n",
    "    plt.show()"
   ]
  },
  {
   "cell_type": "code",
   "execution_count": 9,
   "metadata": {},
   "outputs": [
    {
     "name": "stdout",
     "output_type": "stream",
     "text": [
      "Epoch: 0 -> train_loss: 0.5789495082100232226, val_loss: 0.4314785301685333252,  val_acc: 84.25%\n",
      "Epoch: 1 -> train_loss: 0.4618516213297844120, val_loss: 0.4155995845794677734,  val_acc: 84.93%\n",
      "Epoch: 2 -> train_loss: 0.4279627588391303750, val_loss: 0.3943289518356323242,  val_acc: 85.77%\n",
      "Epoch: 3 -> train_loss: 0.4079944960872332049, val_loss: 0.3557489812374114990,  val_acc: 87.35%\n",
      "Epoch: 4 -> train_loss: 0.3956802259286244516, val_loss: 0.3641712069511413574,  val_acc: 86.84%\n",
      "Epoch: 5 -> train_loss: 0.3791722096800804187, val_loss: 0.3616520166397094727,  val_acc: 87.08%\n",
      "Epoch: 6 -> train_loss: 0.3724695665637652309, val_loss: 0.3773570656776428223,  val_acc: 86.35%\n",
      "Epoch: 7 -> train_loss: 0.3651738567749659437, val_loss: 0.3795778453350067139,  val_acc: 86.20%\n",
      "Epoch: 8 -> train_loss: 0.3566868165532747770, val_loss: 0.3470855951309204102,  val_acc: 87.72%\n",
      "Epoch: 9 -> train_loss: 0.3564704367617765879, val_loss: 0.3415614962577819824,  val_acc: 87.66%\n",
      "Epoch: 10 -> train_loss: 0.3456571834286054079, val_loss: 0.3566904962062835693,  val_acc: 87.53%\n",
      "Epoch: 11 -> train_loss: 0.3432449468374252355, val_loss: 0.3486287891864776611,  val_acc: 87.67%\n",
      "Epoch: 12 -> train_loss: 0.3376942412257194492, val_loss: 0.3245568275451660156,  val_acc: 88.61%\n",
      "Epoch: 13 -> train_loss: 0.3355748153229554664, val_loss: 0.3312691450119018555,  val_acc: 88.40%\n",
      "Epoch: 14 -> train_loss: 0.3201536802053451813, val_loss: 0.3360787332057952881,  val_acc: 87.99%\n",
      "Epoch: 15 -> train_loss: 0.3177173006832599844, val_loss: 0.3356125056743621826,  val_acc: 88.22%\n",
      "Epoch: 16 -> train_loss: 0.3195917471349239425, val_loss: 0.3303662836551666260,  val_acc: 88.39%\n",
      "Epoch: 17 -> train_loss: 0.3151876513361930865, val_loss: 0.3315146863460540771,  val_acc: 88.66%\n",
      "Epoch: 18 -> train_loss: 0.3118661140104134755, val_loss: 0.3369798362255096436,  val_acc: 88.21%\n",
      "Epoch: 19 -> train_loss: 0.3087818359732628082, val_loss: 0.3375828266143798828,  val_acc: 88.13%\n",
      "Epoch: 20 -> train_loss: 0.3082554647922515767, val_loss: 0.3360293209552764893,  val_acc: 88.30%\n",
      "Epoch: 21 -> train_loss: 0.3068999442060788563, val_loss: 0.3368223607540130615,  val_acc: 88.18%\n",
      "Epoch: 22 -> train_loss: 0.2996427702605724552, val_loss: 0.3265824913978576660,  val_acc: 88.85%\n",
      "Epoch: 23 -> train_loss: 0.2984680801729361344, val_loss: 0.3347540497779846191,  val_acc: 88.19%\n",
      "Epoch: 24 -> train_loss: 0.2966487352252006326, val_loss: 0.3413120508193969727,  val_acc: 87.96%\n"
     ]
    },
    {
     "data": {
      "image/png": "[encoded data removed]",
      "text/plain": [
       "<Figure size 640x480 with 1 Axes>"
      ]
     },
     "metadata": {},
     "output_type": "display_data"
    }
   ],
   "source": [
    "# Train and validate\n",
    "train_validate(model, loss_fn, optimizer, train_dl, val_dl, device)"
   ]
  },
  {
   "cell_type": "markdown",
   "metadata": {},
   "source": [
    "### Predict a single image"
   ]
  },
  {
   "cell_type": "code",
   "execution_count": 10,
   "metadata": {},
   "outputs": [
    {
     "data": {
      "image/png": "[encoded data removed]",
      "text/plain": [
       "<Figure size 1300x600 with 2 Axes>"
      ]
     },
     "metadata": {
      "image/png": {
       "height": 587,
       "width": 1246
      }
     },
     "output_type": "display_data"
    }
   ],
   "source": [
    "%matplotlib inline\n",
    "%config InlineBackend.figure_format = 'retina'\n",
    "\n",
    "# Test out the network!\n",
    "dataiter = iter(test_dl)\n",
    "images, labels = dataiter.next()\n",
    "images, labels = images.to(device), labels.to(device)\n",
    "index = 49\n",
    "img, label = images[index], labels[index]\n",
    "# Convert 2D image to 1D vector\n",
    "img = img.view(img.shape[0], -1)\n",
    "\n",
    "# Calculate the class probabilities (softmax) for img\n",
    "proba = torch.exp(model(img))\n",
    "\n",
    "# Plot the image and probabilities\n",
    "desc = ['T-shirt/top','Trouser','Pullover','Dress','Coat','Sandal','Shirt','Sneaker','Bag','Ankle Boot']\n",
    "fig, (ax1, ax2) =  plt.subplots(figsize=(13, 6), nrows=1, ncols=2)\n",
    "ax1.axis('off')\n",
    "ax1.imshow(images[index].cpu().numpy().squeeze())\n",
    "ax1.set_title(desc[label.item()])\n",
    "ax2.bar(range(10), proba.detach().cpu().numpy().squeeze())\n",
    "ax2.set_xticks(range(10))\n",
    "ax2.set_xticklabels(desc, size='small')\n",
    "ax2.set_title('Predicted Probabilities')\n",
    "plt.tight_layout()"
   ]
  },
  {
   "cell_type": "markdown",
   "metadata": {},
   "source": [
    "## Validate on test set"
   ]
  },
  {
   "cell_type": "code",
   "execution_count": 11,
   "metadata": {},
   "outputs": [
    {
     "name": "stdout",
     "output_type": "stream",
     "text": [
      "Test Accuracy: 86.93%\n"
     ]
    }
   ],
   "source": [
    "# Validate\n",
    "with torch.no_grad():\n",
    "    batch_acc = []\n",
    "    model.eval()\n",
    "    for images, labels in test_dl:\n",
    "        images, labels = images.to(device), labels.to(device)\n",
    "        # flatten images to batch_size x 784\n",
    "        images = images.view(images.shape[0], -1)\n",
    "        # make predictions and get probabilities\n",
    "        proba = torch.exp(model(images))\n",
    "        # extract the class associted with highest probability\n",
    "        _, pred_labels = proba.topk(1, dim=1)\n",
    "        # compare actual labels and predicted labels\n",
    "        result = pred_labels == labels.view(pred_labels.shape)\n",
    "        acc = torch.mean(result.type(torch.FloatTensor))\n",
    "        batch_acc.append(acc.item())\n",
    "    else:\n",
    "        print(f'Test Accuracy: {torch.mean(torch.tensor(batch_acc))*100:.2f}%')"
   ]
  },
  {
   "cell_type": "markdown",
   "metadata": {},
   "source": [
    "## More powerful model"
   ]
  },
  {
   "cell_type": "code",
   "execution_count": 12,
   "metadata": {},
   "outputs": [],
   "source": [
    "# Redefine network with dropout layers in between\n",
    "def network():\n",
    "    model = nn.Sequential(OrderedDict([('fc1', nn.Linear(784, 392)),\n",
    "                                       ('relu1', nn.ReLU()),\n",
    "                                       ('drop1', nn.Dropout(0.25)),\n",
    "                                       ('fc12', nn.Linear(392, 196)),\n",
    "                                       ('relu2', nn.ReLU()),\n",
    "                                       ('drop2', nn.Dropout(0.25)),\n",
    "                                       ('fc3', nn.Linear(196, 98)),\n",
    "                                       ('relu3', nn.ReLU()),\n",
    "                                       ('drop3', nn.Dropout(0.25)),                                       \n",
    "                                       ('fc4', nn.Linear(98, 49)),\n",
    "                                       ('relu4', nn.ReLU()),\n",
    "                                       ('output', nn.Linear(49, 10)),\n",
    "                                       ('logsoftmax', nn.LogSoftmax(dim=1))]))\n",
    "    \n",
    "    # Use GPU if available\n",
    "    device = 'cuda' if torch.cuda.is_available() else 'cpu'\n",
    "    model = model.to(device)\n",
    "\n",
    "    # define the criterion and optimizer\n",
    "    loss_fn = nn.NLLLoss()\n",
    "    optimizer = optim.Adam(model.parameters(), lr=0.0007)\n",
    "\n",
    "    return model, loss_fn, optimizer, device       "
   ]
  },
  {
   "cell_type": "code",
   "execution_count": 13,
   "metadata": {},
   "outputs": [
    {
     "data": {
      "text/plain": [
       "Sequential(\n",
       "  (fc1): Linear(in_features=784, out_features=392, bias=True)\n",
       "  (relu1): ReLU()\n",
       "  (drop1): Dropout(p=0.25, inplace=False)\n",
       "  (fc12): Linear(in_features=392, out_features=196, bias=True)\n",
       "  (relu2): ReLU()\n",
       "  (drop2): Dropout(p=0.25, inplace=False)\n",
       "  (fc3): Linear(in_features=196, out_features=98, bias=True)\n",
       "  (relu3): ReLU()\n",
       "  (drop3): Dropout(p=0.25, inplace=False)\n",
       "  (fc4): Linear(in_features=98, out_features=49, bias=True)\n",
       "  (relu4): ReLU()\n",
       "  (output): Linear(in_features=49, out_features=10, bias=True)\n",
       "  (logsoftmax): LogSoftmax(dim=1)\n",
       ")"
      ]
     },
     "execution_count": 13,
     "metadata": {},
     "output_type": "execute_result"
    }
   ],
   "source": [
    "model, loss_fn, optimizer, device = network()\n",
    "model"
   ]
  },
  {
   "cell_type": "code",
   "execution_count": 14,
   "metadata": {},
   "outputs": [
    {
     "name": "stdout",
     "output_type": "stream",
     "text": [
      "Epoch: 0 -> train_loss: 0.6855045186281204517, val_loss: 0.4465020298957824707,  val_acc: 84.07%\n",
      "Epoch: 1 -> train_loss: 0.4642426335414250871, val_loss: 0.4065601229667663574,  val_acc: 85.46%\n",
      "Epoch: 2 -> train_loss: 0.4183805910150210083, val_loss: 0.3935156464576721191,  val_acc: 85.79%\n",
      "Epoch: 3 -> train_loss: 0.3921241991321245957, val_loss: 0.3722155690193176270,  val_acc: 86.65%\n",
      "Epoch: 4 -> train_loss: 0.3697275487581888620, val_loss: 0.3648492991924285889,  val_acc: 86.98%\n",
      "Epoch: 5 -> train_loss: 0.3555079794029394891, val_loss: 0.3529390692710876465,  val_acc: 86.83%\n",
      "Epoch: 6 -> train_loss: 0.3443926275670528558, val_loss: 0.3248184919357299805,  val_acc: 88.38%\n",
      "Epoch: 7 -> train_loss: 0.3269262994229793495, val_loss: 0.3249777853488922119,  val_acc: 88.48%\n",
      "Epoch: 8 -> train_loss: 0.3205269113381703505, val_loss: 0.3181797266006469727,  val_acc: 88.50%\n",
      "Epoch: 9 -> train_loss: 0.3130609797338644862, val_loss: 0.3347418010234832764,  val_acc: 87.97%\n",
      "Epoch: 10 -> train_loss: 0.3017809143265088312, val_loss: 0.3094406723976135254,  val_acc: 88.93%\n",
      "Epoch: 11 -> train_loss: 0.2938862778643767104, val_loss: 0.3110043704509735107,  val_acc: 89.11%\n",
      "Epoch: 12 -> train_loss: 0.2889472188850243928, val_loss: 0.3099343180656433105,  val_acc: 88.59%\n",
      "Epoch: 13 -> train_loss: 0.2824507220188776646, val_loss: 0.3138929605484008789,  val_acc: 88.90%\n",
      "Epoch: 14 -> train_loss: 0.2768487163285414110, val_loss: 0.3210067451000213623,  val_acc: 89.05%\n",
      "Epoch: 15 -> train_loss: 0.2713282869557539501, val_loss: 0.3040482401847839355,  val_acc: 89.21%\n",
      "Epoch: 16 -> train_loss: 0.2668976983030637018, val_loss: 0.3118472397327423096,  val_acc: 88.61%\n",
      "Epoch: 17 -> train_loss: 0.2617385173340638360, val_loss: 0.3063040673732757568,  val_acc: 89.19%\n",
      "Epoch: 18 -> train_loss: 0.2565816362599531719, val_loss: 0.3281426727771759033,  val_acc: 88.54%\n",
      "Epoch: 19 -> train_loss: 0.2517889645546674826, val_loss: 0.3071959316730499268,  val_acc: 89.14%\n",
      "Epoch: 20 -> train_loss: 0.2440039268235365544, val_loss: 0.3131408989429473877,  val_acc: 89.00%\n",
      "Epoch: 21 -> train_loss: 0.2468546137412389041, val_loss: 0.2994027137756347656,  val_acc: 89.35%\n",
      "Epoch: 22 -> train_loss: 0.2431846132675806738, val_loss: 0.3019925653934478760,  val_acc: 89.43%\n",
      "Epoch: 23 -> train_loss: 0.2372386408646901534, val_loss: 0.3041537702083587646,  val_acc: 89.48%\n",
      "Epoch: 24 -> train_loss: 0.2334201569706201573, val_loss: 0.3008937537670135498,  val_acc: 89.57%\n",
      "Epoch: 25 -> train_loss: 0.2245796053061882569, val_loss: 0.3180147707462310791,  val_acc: 89.43%\n",
      "Epoch: 26 -> train_loss: 0.2262434597611427400, val_loss: 0.3108238577842712402,  val_acc: 89.46%\n",
      "Epoch: 27 -> train_loss: 0.2180396950195233052, val_loss: 0.3181021511554718018,  val_acc: 89.35%\n",
      "Epoch: 28 -> train_loss: 0.2179286869963010242, val_loss: 0.3034222126007080078,  val_acc: 89.92%\n",
      "Epoch: 29 -> train_loss: 0.2175867655227581576, val_loss: 0.3034799396991729736,  val_acc: 89.90%\n",
      "Epoch: 30 -> train_loss: 0.2101290639191865928, val_loss: 0.3163310289382934570,  val_acc: 89.27%\n",
      "Epoch: 31 -> train_loss: 0.2081965753585100221, val_loss: 0.3089722096920013428,  val_acc: 89.66%\n",
      "Epoch: 32 -> train_loss: 0.2086356645971536583, val_loss: 0.3082575798034667969,  val_acc: 89.68%\n"
     ]
    }
   ],
   "source": [
    "# Train and validate again with new architecture\n",
    "train_validate(model, loss_fn, optimizer, train_dl, val_dl, device, n_epochs=35)"
   ]
  },
  {
   "cell_type": "markdown",
   "metadata": {},
   "source": [
    "## Validate on test set"
   ]
  },
  {
   "cell_type": "code",
   "execution_count": null,
   "metadata": {},
   "outputs": [
    {
     "name": "stdout",
     "output_type": "stream",
     "text": [
      "Accuracy: 88.65%\n"
     ]
    }
   ],
   "source": [
    "# Validate\n",
    "with torch.no_grad():\n",
    "    model.eval()\n",
    "    batch_acc = []\n",
    "    for images, labels in test_dl:\n",
    "        images, labels = images.to(device), labels.to(device)\n",
    "        # flatten images to batch_size x 784\n",
    "        images = images.view(images.shape[0], -1)\n",
    "        # make predictions and get probabilities\n",
    "        proba = torch.exp(model(images))\n",
    "        # extract the class associted with highest probability\n",
    "        _, pred_labels = proba.topk(1, dim=1)\n",
    "        # compare actual labels and predicted labels\n",
    "        result = pred_labels == labels.view(pred_labels.shape)\n",
    "        acc = torch.mean(result.type(torch.FloatTensor))\n",
    "        batch_acc.append(acc.item())\n",
    "    else:\n",
    "        print(f'Accuracy: {torch.mean(torch.tensor(batch_acc))*100:.2f}%')"
   ]
  },
  {
   "cell_type": "code",
   "execution_count": null,
   "metadata": {},
   "outputs": [],
   "source": []
  }
 ],
 "metadata": {
  "kernelspec": {
   "display_name": "Python 3",
   "language": "python",
   "name": "python3"
  },
  "language_info": {
   "codemirror_mode": {
    "name": "ipython",
    "version": 3
   },
   "file_extension": ".py",
   "mimetype": "text/x-python",
   "name": "python",
   "nbconvert_exporter": "python",
   "pygments_lexer": "ipython3",
   "version": "3.10.10"
  }
 },
 "nbformat": 4,
 "nbformat_minor": 4
}
